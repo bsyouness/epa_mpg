{
 "cells": [
  {
   "cell_type": "markdown",
   "metadata": {},
   "source": [
    "## 1) Process VIN data"
   ]
  },
  {
   "cell_type": "code",
   "execution_count": 2,
   "metadata": {},
   "outputs": [
    {
     "name": "stdout",
     "output_type": "stream",
     "text": [
      "Rebuilding cache of generated files for COM support...\n",
      "Checking 00020813-0000-0000-C000-000000000046x0x1x8\n",
      "Could not add module (IID('{00020813-0000-0000-C000-000000000046}'), 0, 1, 8) - <type 'exceptions.ImportError'>: cannot import name Dispatch\n",
      "Done.\n"
     ]
    },
    {
     "data": {
      "text/plain": [
       "<module 'vin_processing' from 'vin_processing.pyc'>"
      ]
     },
     "execution_count": 2,
     "metadata": {},
     "output_type": "execute_result"
    }
   ],
   "source": [
    "import vin_processing as vp\n",
    "from datetime import datetime\n",
    "import pandas as pd\n",
    "reload(vp)"
   ]
  },
  {
   "cell_type": "markdown",
   "metadata": {},
   "source": [
    "### 1) Read the VINs from both files (txsafe18 and forybvin), turn them into a list and then feed that to the function that makes use of the web API."
   ]
  },
  {
   "cell_type": "code",
   "execution_count": 35,
   "metadata": {},
   "outputs": [
    {
     "data": {
      "text/plain": [
       "244003"
      ]
     },
     "execution_count": 35,
     "metadata": {},
     "output_type": "execute_result"
    }
   ],
   "source": [
    "file_path = '../data/txsafe18.txt'\n",
    "counts_with_vins = vp.get_counts(file_path=file_path, put_in_db=False)\n",
    "vin_list = counts_with_vins.VIN.tolist()\n",
    "vin_list = [v for v in vin_list if len(v) >= 17]\n",
    "len(vin_list)"
   ]
  },
  {
   "cell_type": "code",
   "execution_count": 34,
   "metadata": {},
   "outputs": [
    {
     "data": {
      "text/plain": [
       "137382"
      ]
     },
     "execution_count": 34,
     "metadata": {},
     "output_type": "execute_result"
    }
   ],
   "source": [
    "other_file_path = '../data/forybvin.txt'\n",
    "other_counts_with_vins = vp.get_counts(file_path=other_file_path, put_in_db=False)\n",
    "other_vin_list = other_counts_with_vins.VIN.tolist()\n",
    "other_vin_list = [v for v in other_vin_list if len(v) >= 17]\n",
    "len(other_vin_list)"
   ]
  },
  {
   "cell_type": "code",
   "execution_count": 38,
   "metadata": {},
   "outputs": [
    {
     "data": {
      "text/plain": [
       "370920"
      ]
     },
     "execution_count": 38,
     "metadata": {},
     "output_type": "execute_result"
    }
   ],
   "source": [
    "vin_list = list(set(vin_list + other_vin_list))\n",
    "len(vin_list)"
   ]
  },
  {
   "cell_type": "markdown",
   "metadata": {},
   "source": [
    "### 2) Run the VIN decoder untll either 1) there are no more missing VINs (all VINs have been decoded), or 2) `max_iter` has been reached."
   ]
  },
  {
   "cell_type": "code",
   "execution_count": 39,
   "metadata": {
    "scrolled": true
   },
   "outputs": [
    {
     "name": "stdout",
     "output_type": "stream",
     "text": [
      "Loop 0...\n"
     ]
    },
    {
     "name": "stderr",
     "output_type": "stream",
     "text": [
      "Done 100.000%"
     ]
    },
    {
     "name": "stdout",
     "output_type": "stream",
     "text": [
      "\tFixing column names\n",
      "\tAdd vtyp and concat dataframes\n",
      "\tWe're still missing VINs ['25289660831800605', '47795200612640477', '25489105858002548', '22027509821401317', '11111111111111111', '20080500000005394', '13915122761304112', '58761243684633995', '1XPCD68XXTN408520']\n",
      "Loop 1...\n"
     ]
    },
    {
     "name": "stderr",
     "output_type": "stream",
     "text": [
      "Done 100.000%"
     ]
    },
    {
     "name": "stdout",
     "output_type": "stream",
     "text": [
      "\tFixing column names\n",
      "\tAdd vtyp and concat dataframes\n",
      "\tWe're still missing VINs ['25289660831800605', '47795200612640477', '25489105858002548', '22027509821401317', '11111111111111111', '20080500000005394', '13915122761304112', '58761243684633995']\n",
      "Loop 2...\n"
     ]
    },
    {
     "name": "stderr",
     "output_type": "stream",
     "text": [
      "Done 100.000%"
     ]
    },
    {
     "name": "stdout",
     "output_type": "stream",
     "text": [
      "\tFixing column names\n",
      "\tAdd vtyp and concat dataframes\n",
      "\tWe're still missing VINs ['25289660831800605', '47795200612640477', '25489105858002548', '22027509821401317', '11111111111111111', '20080500000005394', '13915122761304112', '58761243684633995']\n",
      "Loop 3...\n"
     ]
    },
    {
     "name": "stderr",
     "output_type": "stream",
     "text": [
      "Done 100.000%"
     ]
    },
    {
     "name": "stdout",
     "output_type": "stream",
     "text": [
      "\tFixing column names\n",
      "\tAdd vtyp and concat dataframes\n",
      "\tWe're still missing VINs ['25289660831800605', '47795200612640477', '25489105858002548', '22027509821401317', '11111111111111111', '20080500000005394', '13915122761304112', '58761243684633995']\n",
      "Loop 4...\n"
     ]
    },
    {
     "name": "stderr",
     "output_type": "stream",
     "text": [
      "Done 100.000%"
     ]
    },
    {
     "name": "stdout",
     "output_type": "stream",
     "text": [
      "\tFixing column names\n",
      "\tAdd vtyp and concat dataframes\n",
      "\tWe're still missing VINs ['25289660831800605', '47795200612640477', '25489105858002548', '22027509821401317', '11111111111111111', '20080500000005394', '13915122761304112', '58761243684633995']\n",
      "Loop 5...\n"
     ]
    },
    {
     "name": "stderr",
     "output_type": "stream",
     "text": [
      "Done 100.000%"
     ]
    },
    {
     "name": "stdout",
     "output_type": "stream",
     "text": [
      "\tFixing column names\n",
      "\tAdd vtyp and concat dataframes\n",
      "\tWe're still missing VINs ['25289660831800605', '47795200612640477', '25489105858002548', '22027509821401317', '11111111111111111', '20080500000005394', '13915122761304112', '58761243684633995']\n",
      "Loop 6...\n"
     ]
    },
    {
     "name": "stderr",
     "output_type": "stream",
     "text": [
      "Done 100.000%"
     ]
    },
    {
     "name": "stdout",
     "output_type": "stream",
     "text": [
      "\tFixing column names\n",
      "\tAdd vtyp and concat dataframes\n",
      "\tWe're still missing VINs ['25289660831800605', '47795200612640477', '25489105858002548', '22027509821401317', '11111111111111111', '20080500000005394', '13915122761304112', '58761243684633995']\n",
      "Loop 7...\n"
     ]
    },
    {
     "name": "stderr",
     "output_type": "stream",
     "text": [
      "Done 100.000%"
     ]
    },
    {
     "name": "stdout",
     "output_type": "stream",
     "text": [
      "\tFixing column names\n",
      "\tAdd vtyp and concat dataframes\n",
      "\tWe're still missing VINs ['25289660831800605', '47795200612640477', '25489105858002548', '22027509821401317', '11111111111111111', '20080500000005394', '13915122761304112', '58761243684633995']\n",
      "Loop 8...\n"
     ]
    },
    {
     "name": "stderr",
     "output_type": "stream",
     "text": [
      "Done 100.000%"
     ]
    },
    {
     "name": "stdout",
     "output_type": "stream",
     "text": [
      "\tFixing column names\n",
      "\tAdd vtyp and concat dataframes\n",
      "\tWe're still missing VINs ['25289660831800605', '47795200612640477', '25489105858002548', '22027509821401317', '11111111111111111', '20080500000005394', '13915122761304112', '58761243684633995']\n",
      "Loop 9...\n"
     ]
    },
    {
     "name": "stderr",
     "output_type": "stream",
     "text": [
      "Done 100.000%"
     ]
    },
    {
     "name": "stdout",
     "output_type": "stream",
     "text": [
      "\tFixing column names\n",
      "\tAdd vtyp and concat dataframes\n",
      "\tWe're still missing VINs ['25289660831800605', '47795200612640477', '25489105858002548', '22027509821401317', '11111111111111111', '20080500000005394', '13915122761304112', '58761243684633995']\n"
     ]
    }
   ],
   "source": [
    "reload(vp)\n",
    "file_name = r'out_parallel'\n",
    "if_exists = 'replace'\n",
    "i = 0\n",
    "max_iter = 5\n",
    "missing_vins = vin_list\n",
    "vin_df = pd.DataFrame()\n",
    "while missing_vins and (i < max_iter):\n",
    "    print 'Loop {}...'.format(i)\n",
    "    vin_file_path = r'X:\\EPA_MPG\\data\\{}.csv'.format(file_name + str(i))\n",
    "    vp.get_data_parallel_stream(missing_vins, vin_file_path=vin_file_path)\n",
    "    print '\\tFixing column names'\n",
    "    vp.take_out_results_string(vin_file_path)\n",
    "    print '\\tAdd vtyp and concat dataframes'\n",
    "    vin_df = pd.concat([vp.add_vtyp(vin_file_path=vin_file_path, if_exists=if_exists), vin_df], axis=0)    \n",
    "    missing_vins = list(set(vin_list) - set(vin_df.VIN))\n",
    "    print '\\tWe\\'re still missing {} VINs {}'.format(len(missing_vins), missing_vins)\n",
    "    i += 1\n",
    "    if_exists = 'append'"
   ]
  },
  {
   "cell_type": "code",
   "execution_count": 3,
   "metadata": {},
   "outputs": [
    {
     "name": "stdout",
     "output_type": "stream",
     "text": [
      "(370992, 149)\n"
     ]
    }
   ],
   "source": [
    "# compare vin_df to what's in the database\n",
    "vin_df_from_db = pd.read_sql('vin_with_vtyp_no_counts', vp.engine)\n",
    "print(vin_df_from_db.shape)"
   ]
  },
  {
   "cell_type": "code",
   "execution_count": 6,
   "metadata": {},
   "outputs": [
    {
     "data": {
      "text/plain": [
       "370920"
      ]
     },
     "execution_count": 6,
     "metadata": {},
     "output_type": "execute_result"
    }
   ],
   "source": [
    "len(vin_df_from_db.VIN.unique())"
   ]
  },
  {
   "cell_type": "code",
   "execution_count": 5,
   "metadata": {},
   "outputs": [],
   "source": [
    "vp.add_counts()"
   ]
  },
  {
   "cell_type": "markdown",
   "metadata": {},
   "source": [
    "## Merge"
   ]
  },
  {
   "cell_type": "code",
   "execution_count": 7,
   "metadata": {
    "collapsed": true,
    "scrolled": false
   },
   "outputs": [],
   "source": [
    "%run merge\n",
    "# Load and modify the basics\n",
    "vin_original, epa_original = load()"
   ]
  },
  {
   "cell_type": "code",
   "execution_count": 8,
   "metadata": {
    "collapsed": true
   },
   "outputs": [],
   "source": [
    "vin_original = vin_original.loc[vin_original.VIN.apply(len) >= 17]"
   ]
  },
  {
   "cell_type": "code",
   "execution_count": 9,
   "metadata": {
    "collapsed": true
   },
   "outputs": [],
   "source": [
    "%run merge\n",
    "vin_original_fixed, epa_original_fixed = fix(vin_original, epa_original, init_yr=0)"
   ]
  },
  {
   "cell_type": "code",
   "execution_count": 52,
   "metadata": {
    "scrolled": false
   },
   "outputs": [
    {
     "name": "stdout",
     "output_type": "stream",
     "text": [
      "Expanding VIN data\n",
      "Expanding EPA data\n",
      "Making last minute changes\n"
     ]
    }
   ],
   "source": [
    "%run merge\n",
    "vin_expanded, epa_expanded = split_and_expand(vin_original_fixed, epa_original_fixed)"
   ]
  },
  {
   "cell_type": "code",
   "execution_count": 115,
   "metadata": {
    "scrolled": false
   },
   "outputs": [],
   "source": [
    "%run merge\n",
    "vin, epa = modify(vin_expanded, epa_expanded)"
   ]
  },
  {
   "cell_type": "code",
   "execution_count": 117,
   "metadata": {
    "scrolled": true
   },
   "outputs": [
    {
     "name": "stdout",
     "output_type": "stream",
     "text": [
      "Merging datasets\n",
      "**************************************************\n",
      "('Merging using:', ['make', 'model_mod', 'year', 'fuelType1_mod'])\n",
      "('Matching on ', ['make', 'model_mod', 'year', 'fuelType1_mod', 'type', 'drive_mod', 'displ_mod', 'cylinders', 'transmission_type_mod', 'transmission_speeds_mod'])\n",
      "Weighted match fraction: 0.95%\n",
      "('Matching on ', ['make', 'model_mod', 'year', 'fuelType1_mod', 'type', 'drive_mod', 'displ_mod', 'cylinders', 'transmission_type_mod'])\n",
      "Weighted match fraction: 1.28%\n",
      "('Matching on ', ['make', 'model_mod', 'year', 'fuelType1_mod', 'type', 'drive_mod', 'displ_mod', 'cylinders', 'transmission_speeds_mod'])\n",
      "Weighted match fraction: 1.30%\n",
      "('Matching on ', ['make', 'model_mod', 'year', 'fuelType1_mod', 'type', 'drive_mod', 'displ_mod', 'transmission_type_mod', 'transmission_speeds_mod'])\n",
      "Weighted match fraction: 1.42%\n",
      "('Matching on ', ['make', 'model_mod', 'year', 'fuelType1_mod', 'type', 'drive_mod', 'cylinders', 'transmission_type_mod', 'transmission_speeds_mod'])\n",
      "Weighted match fraction: 1.43%\n",
      "('Matching on ', ['make', 'model_mod', 'year', 'fuelType1_mod', 'type', 'displ_mod', 'cylinders', 'transmission_type_mod', 'transmission_speeds_mod'])\n",
      "Weighted match fraction: 4.03%\n",
      "('Matching on ', ['make', 'model_mod', 'year', 'fuelType1_mod', 'drive_mod', 'displ_mod', 'cylinders', 'transmission_type_mod', 'transmission_speeds_mod'])\n",
      "Weighted match fraction: 4.76%\n",
      "('Matching on ', ['make', 'model_mod', 'year', 'fuelType1_mod', 'type', 'drive_mod', 'displ_mod', 'cylinders'])\n",
      "Weighted match fraction: 32.66%\n",
      "('Matching on ', ['make', 'model_mod', 'year', 'fuelType1_mod', 'type', 'drive_mod', 'displ_mod', 'transmission_type_mod'])\n",
      "Weighted match fraction: 32.77%\n",
      "('Matching on ', ['make', 'model_mod', 'year', 'fuelType1_mod', 'type', 'drive_mod', 'displ_mod', 'transmission_speeds_mod'])\n",
      "Weighted match fraction: 32.77%\n",
      "('Matching on ', ['make', 'model_mod', 'year', 'fuelType1_mod', 'type', 'drive_mod', 'cylinders', 'transmission_type_mod'])\n",
      "Weighted match fraction: 32.77%\n",
      "('Matching on ', ['make', 'model_mod', 'year', 'fuelType1_mod', 'type', 'drive_mod', 'cylinders', 'transmission_speeds_mod'])\n",
      "Weighted match fraction: 32.77%\n",
      "('Matching on ', ['make', 'model_mod', 'year', 'fuelType1_mod', 'type', 'displ_mod', 'cylinders', 'transmission_type_mod'])\n",
      "Weighted match fraction: 34.11%\n",
      "('Matching on ', ['make', 'model_mod', 'year', 'fuelType1_mod', 'type', 'displ_mod', 'cylinders', 'transmission_speeds_mod'])\n",
      "Weighted match fraction: 34.11%\n",
      "('Matching on ', ['make', 'model_mod', 'year', 'fuelType1_mod', 'type', 'displ_mod', 'transmission_type_mod', 'transmission_speeds_mod'])\n",
      "Weighted match fraction: 34.26%\n",
      "('Matching on ', ['make', 'model_mod', 'year', 'fuelType1_mod', 'type', 'cylinders', 'transmission_type_mod', 'transmission_speeds_mod'])\n",
      "Weighted match fraction: 34.27%\n",
      "('Matching on ', ['make', 'model_mod', 'year', 'fuelType1_mod', 'drive_mod', 'displ_mod', 'cylinders', 'transmission_type_mod'])\n",
      "Weighted match fraction: 34.47%\n",
      "('Matching on ', ['make', 'model_mod', 'year', 'fuelType1_mod', 'drive_mod', 'displ_mod', 'cylinders', 'transmission_speeds_mod'])\n",
      "Weighted match fraction: 34.49%\n",
      "('Matching on ', ['make', 'model_mod', 'year', 'fuelType1_mod', 'drive_mod', 'displ_mod', 'transmission_type_mod', 'transmission_speeds_mod'])\n",
      "Weighted match fraction: 34.59%\n",
      "('Matching on ', ['make', 'model_mod', 'year', 'fuelType1_mod', 'drive_mod', 'cylinders', 'transmission_type_mod', 'transmission_speeds_mod'])\n",
      "Weighted match fraction: 34.59%\n",
      "('Matching on ', ['make', 'model_mod', 'year', 'fuelType1_mod', 'displ_mod', 'cylinders', 'transmission_type_mod', 'transmission_speeds_mod'])\n",
      "Weighted match fraction: 36.71%\n",
      "('Matching on ', ['make', 'model_mod', 'year', 'fuelType1_mod', 'type', 'drive_mod', 'displ_mod'])\n",
      "Weighted match fraction: 39.39%\n",
      "('Matching on ', ['make', 'model_mod', 'year', 'fuelType1_mod', 'type', 'drive_mod', 'cylinders'])\n",
      "Weighted match fraction: 40.27%\n",
      "('Matching on ', ['make', 'model_mod', 'year', 'fuelType1_mod', 'type', 'displ_mod', 'cylinders'])\n",
      "Weighted match fraction: 53.94%\n",
      "('Matching on ', ['make', 'model_mod', 'year', 'fuelType1_mod', 'type', 'displ_mod', 'transmission_type_mod'])\n",
      "Weighted match fraction: 54.01%\n",
      "('Matching on ', ['make', 'model_mod', 'year', 'fuelType1_mod', 'type', 'displ_mod', 'transmission_speeds_mod'])\n",
      "Weighted match fraction: 54.01%\n",
      "('Matching on ', ['make', 'model_mod', 'year', 'fuelType1_mod', 'type', 'cylinders', 'transmission_type_mod'])\n",
      "Weighted match fraction: 54.06%\n",
      "('Matching on ', ['make', 'model_mod', 'year', 'fuelType1_mod', 'type', 'cylinders', 'transmission_speeds_mod'])\n",
      "Weighted match fraction: 54.06%\n",
      "('Matching on ', ['make', 'model_mod', 'year', 'fuelType1_mod', 'drive_mod', 'displ_mod', 'cylinders'])\n",
      "Weighted match fraction: 75.27%\n",
      "('Matching on ', ['make', 'model_mod', 'year', 'fuelType1_mod', 'drive_mod', 'displ_mod', 'transmission_type_mod'])\n",
      "Weighted match fraction: 75.35%\n",
      "('Matching on ', ['make', 'model_mod', 'year', 'fuelType1_mod', 'drive_mod', 'displ_mod', 'transmission_speeds_mod'])\n",
      "Weighted match fraction: 75.35%\n",
      "('Matching on ', ['make', 'model_mod', 'year', 'fuelType1_mod', 'drive_mod', 'cylinders', 'transmission_type_mod'])\n",
      "Weighted match fraction: 75.35%\n",
      "('Matching on ', ['make', 'model_mod', 'year', 'fuelType1_mod', 'drive_mod', 'cylinders', 'transmission_speeds_mod'])\n",
      "Weighted match fraction: 75.35%\n",
      "('Matching on ', ['make', 'model_mod', 'year', 'fuelType1_mod', 'displ_mod', 'cylinders', 'transmission_type_mod'])\n",
      "Weighted match fraction: 76.29%\n",
      "('Matching on ', ['make', 'model_mod', 'year', 'fuelType1_mod', 'displ_mod', 'cylinders', 'transmission_speeds_mod'])\n",
      "Weighted match fraction: 76.30%\n",
      "('Matching on ', ['make', 'model_mod', 'year', 'fuelType1_mod', 'displ_mod', 'transmission_type_mod', 'transmission_speeds_mod'])\n",
      "Weighted match fraction: 76.41%\n",
      "('Matching on ', ['make', 'model_mod', 'year', 'fuelType1_mod', 'cylinders', 'transmission_type_mod', 'transmission_speeds_mod'])\n",
      "Weighted match fraction: 76.42%\n",
      "('Matching on ', ['make', 'model_mod', 'year', 'fuelType1_mod', 'type', 'displ_mod'])\n",
      "Weighted match fraction: 78.60%\n",
      "('Matching on ', ['make', 'model_mod', 'year', 'fuelType1_mod', 'type', 'cylinders'])\n",
      "Weighted match fraction: 79.01%\n",
      "('Matching on ', ['make', 'model_mod', 'year', 'fuelType1_mod', 'drive_mod', 'displ_mod'])\n",
      "Weighted match fraction: 80.96%\n",
      "('Matching on ', ['make', 'model_mod', 'year', 'fuelType1_mod', 'drive_mod', 'cylinders'])\n",
      "Weighted match fraction: 81.62%\n",
      "('Matching on ', ['make', 'model_mod', 'year', 'fuelType1_mod', 'displ_mod', 'cylinders'])\n",
      "Weighted match fraction: 92.54%\n",
      "('Matching on ', ['make', 'model_mod', 'year', 'fuelType1_mod', 'displ_mod', 'transmission_type_mod'])\n",
      "Weighted match fraction: 92.58%\n",
      "('Matching on ', ['make', 'model_mod', 'year', 'fuelType1_mod', 'displ_mod', 'transmission_speeds_mod'])\n",
      "Weighted match fraction: 92.58%\n",
      "('Matching on ', ['make', 'model_mod', 'year', 'fuelType1_mod', 'cylinders', 'transmission_type_mod'])\n",
      "Weighted match fraction: 92.61%\n",
      "('Matching on ', ['make', 'model_mod', 'year', 'fuelType1_mod', 'cylinders', 'transmission_speeds_mod'])\n",
      "Weighted match fraction: 92.61%\n",
      "('Matching on ', ['make', 'model_mod', 'year', 'fuelType1_mod', 'displ_mod'])\n",
      "Weighted match fraction: 94.17%\n",
      "('Matching on ', ['make', 'model_mod', 'year', 'fuelType1_mod', 'cylinders'])\n",
      "Weighted match fraction: 94.42%\n",
      "**************************************************\n",
      "('Merging using:', ['make', 'model_mod', 'year'])\n",
      "('Matching on ', ['make', 'model_mod', 'year', 'type', 'drive_mod', 'displ_mod', 'cylinders', 'transmission_type_mod', 'transmission_speeds_mod'])\n",
      "Weighted match fraction: 94.42%\n",
      "('Matching on ', ['make', 'model_mod', 'year', 'type', 'drive_mod', 'displ_mod', 'cylinders', 'transmission_type_mod'])\n",
      "Weighted match fraction: 94.42%\n",
      "('Matching on ', ['make', 'model_mod', 'year', 'type', 'drive_mod', 'displ_mod', 'cylinders', 'transmission_speeds_mod'])\n",
      "Weighted match fraction: 94.42%\n",
      "('Matching on ', ['make', 'model_mod', 'year', 'type', 'drive_mod', 'displ_mod', 'transmission_type_mod', 'transmission_speeds_mod'])\n",
      "Weighted match fraction: 94.42%\n",
      "('Matching on ', ['make', 'model_mod', 'year', 'type', 'drive_mod', 'cylinders', 'transmission_type_mod', 'transmission_speeds_mod'])\n"
     ]
    },
    {
     "name": "stdout",
     "output_type": "stream",
     "text": [
      "Weighted match fraction: 94.42%\n",
      "('Matching on ', ['make', 'model_mod', 'year', 'type', 'displ_mod', 'cylinders', 'transmission_type_mod', 'transmission_speeds_mod'])\n",
      "Weighted match fraction: 94.43%\n",
      "('Matching on ', ['make', 'model_mod', 'year', 'drive_mod', 'displ_mod', 'cylinders', 'transmission_type_mod', 'transmission_speeds_mod'])\n",
      "Weighted match fraction: 94.43%\n",
      "('Matching on ', ['make', 'model_mod', 'year', 'type', 'drive_mod', 'displ_mod', 'cylinders'])\n",
      "Weighted match fraction: 95.15%\n",
      "('Matching on ', ['make', 'model_mod', 'year', 'type', 'drive_mod', 'displ_mod', 'transmission_type_mod'])\n",
      "Weighted match fraction: 95.15%\n",
      "('Matching on ', ['make', 'model_mod', 'year', 'type', 'drive_mod', 'displ_mod', 'transmission_speeds_mod'])\n",
      "Weighted match fraction: 95.15%\n",
      "('Matching on ', ['make', 'model_mod', 'year', 'type', 'drive_mod', 'cylinders', 'transmission_type_mod'])\n",
      "Weighted match fraction: 95.15%\n",
      "('Matching on ', ['make', 'model_mod', 'year', 'type', 'drive_mod', 'cylinders', 'transmission_speeds_mod'])\n",
      "Weighted match fraction: 95.15%\n",
      "('Matching on ', ['make', 'model_mod', 'year', 'type', 'displ_mod', 'cylinders', 'transmission_type_mod'])\n",
      "Weighted match fraction: 95.44%\n",
      "('Matching on ', ['make', 'model_mod', 'year', 'type', 'displ_mod', 'cylinders', 'transmission_speeds_mod'])\n",
      "Weighted match fraction: 95.44%\n",
      "('Matching on ', ['make', 'model_mod', 'year', 'type', 'displ_mod', 'transmission_type_mod', 'transmission_speeds_mod'])\n",
      "Weighted match fraction: 95.44%\n",
      "('Matching on ', ['make', 'model_mod', 'year', 'type', 'cylinders', 'transmission_type_mod', 'transmission_speeds_mod'])\n",
      "Weighted match fraction: 95.44%\n",
      "('Matching on ', ['make', 'model_mod', 'year', 'drive_mod', 'displ_mod', 'cylinders', 'transmission_type_mod'])\n",
      "Weighted match fraction: 95.44%\n",
      "('Matching on ', ['make', 'model_mod', 'year', 'drive_mod', 'displ_mod', 'cylinders', 'transmission_speeds_mod'])\n",
      "Weighted match fraction: 95.44%\n",
      "('Matching on ', ['make', 'model_mod', 'year', 'drive_mod', 'displ_mod', 'transmission_type_mod', 'transmission_speeds_mod'])\n",
      "Weighted match fraction: 95.44%\n",
      "('Matching on ', ['make', 'model_mod', 'year', 'drive_mod', 'cylinders', 'transmission_type_mod', 'transmission_speeds_mod'])\n",
      "Weighted match fraction: 95.44%\n",
      "('Matching on ', ['make', 'model_mod', 'year', 'displ_mod', 'cylinders', 'transmission_type_mod', 'transmission_speeds_mod'])\n",
      "Weighted match fraction: 95.44%\n",
      "('Matching on ', ['make', 'model_mod', 'year', 'type', 'drive_mod', 'displ_mod'])\n",
      "Weighted match fraction: 95.46%\n",
      "('Matching on ', ['make', 'model_mod', 'year', 'type', 'drive_mod', 'cylinders'])\n",
      "Weighted match fraction: 95.48%\n",
      "('Matching on ', ['make', 'model_mod', 'year', 'type', 'displ_mod', 'cylinders'])\n",
      "Weighted match fraction: 95.68%\n",
      "('Matching on ', ['make', 'model_mod', 'year', 'type', 'displ_mod', 'transmission_type_mod'])\n",
      "Weighted match fraction: 95.68%\n",
      "('Matching on ', ['make', 'model_mod', 'year', 'type', 'displ_mod', 'transmission_speeds_mod'])\n",
      "Weighted match fraction: 95.68%\n",
      "('Matching on ', ['make', 'model_mod', 'year', 'type', 'cylinders', 'transmission_type_mod'])\n",
      "Weighted match fraction: 95.68%\n",
      "('Matching on ', ['make', 'model_mod', 'year', 'type', 'cylinders', 'transmission_speeds_mod'])\n",
      "Weighted match fraction: 95.68%\n",
      "('Matching on ', ['make', 'model_mod', 'year', 'drive_mod', 'displ_mod', 'cylinders'])\n",
      "Weighted match fraction: 96.16%\n",
      "('Matching on ', ['make', 'model_mod', 'year', 'drive_mod', 'displ_mod', 'transmission_type_mod'])\n",
      "Weighted match fraction: 96.16%\n",
      "('Matching on ', ['make', 'model_mod', 'year', 'drive_mod', 'displ_mod', 'transmission_speeds_mod'])\n",
      "Weighted match fraction: 96.16%\n",
      "('Matching on ', ['make', 'model_mod', 'year', 'drive_mod', 'cylinders', 'transmission_type_mod'])\n",
      "Weighted match fraction: 96.16%\n",
      "('Matching on ', ['make', 'model_mod', 'year', 'drive_mod', 'cylinders', 'transmission_speeds_mod'])\n",
      "Weighted match fraction: 96.16%\n",
      "('Matching on ', ['make', 'model_mod', 'year', 'displ_mod', 'cylinders', 'transmission_type_mod'])\n",
      "Weighted match fraction: 96.35%\n",
      "('Matching on ', ['make', 'model_mod', 'year', 'displ_mod', 'cylinders', 'transmission_speeds_mod'])\n",
      "Weighted match fraction: 96.35%\n",
      "('Matching on ', ['make', 'model_mod', 'year', 'displ_mod', 'transmission_type_mod', 'transmission_speeds_mod'])\n",
      "Weighted match fraction: 96.35%\n",
      "('Matching on ', ['make', 'model_mod', 'year', 'cylinders', 'transmission_type_mod', 'transmission_speeds_mod'])\n",
      "Weighted match fraction: 96.35%\n",
      "('Matching on ', ['make', 'model_mod', 'year', 'type', 'displ_mod'])\n",
      "Weighted match fraction: 96.35%\n",
      "('Matching on ', ['make', 'model_mod', 'year', 'type', 'cylinders'])\n",
      "Weighted match fraction: 96.37%\n",
      "('Matching on ', ['make', 'model_mod', 'year', 'drive_mod', 'displ_mod'])\n",
      "Weighted match fraction: 96.38%\n",
      "('Matching on ', ['make', 'model_mod', 'year', 'drive_mod', 'cylinders'])\n",
      "Weighted match fraction: 96.39%\n",
      "('Matching on ', ['make', 'model_mod', 'year', 'displ_mod', 'cylinders'])\n",
      "Weighted match fraction: 96.51%\n",
      "('Matching on ', ['make', 'model_mod', 'year', 'displ_mod', 'transmission_type_mod'])\n",
      "Weighted match fraction: 96.51%\n",
      "('Matching on ', ['make', 'model_mod', 'year', 'displ_mod', 'transmission_speeds_mod'])\n",
      "Weighted match fraction: 96.51%\n",
      "('Matching on ', ['make', 'model_mod', 'year', 'cylinders', 'transmission_type_mod'])\n",
      "Weighted match fraction: 96.51%\n",
      "('Matching on ', ['make', 'model_mod', 'year', 'cylinders', 'transmission_speeds_mod'])\n",
      "Weighted match fraction: 96.51%\n",
      "('Matching on ', ['make', 'model_mod', 'year', 'displ_mod'])\n",
      "Weighted match fraction: 96.51%\n",
      "('Matching on ', ['make', 'model_mod', 'year', 'cylinders'])\n",
      "Weighted match fraction: 96.51%\n",
      "**************************************************\n",
      "('Matching on', ['make', 'model_mod', 'year', 'fuelType1_mod'])\n",
      "Weighted match fraction: 98.87%\n",
      "**************************************************\n",
      "Final weighted match fraction: 98.87%\n",
      "\n",
      "Runtime: 0:02:42.566000\n"
     ]
    }
   ],
   "source": [
    "%run merge\n",
    "t0 = datetime.now()\n",
    "matched_vins, vin_merge = run_merge(vin, epa)    \n",
    "t1 = datetime.now()\n",
    "print '\\nRuntime: {}'.format(t1-t0)"
   ]
  },
  {
   "cell_type": "code",
   "execution_count": 129,
   "metadata": {
    "scrolled": true
   },
   "outputs": [
    {
     "name": "stdout",
     "output_type": "stream",
     "text": [
      "Merge fraction weighted: 98.87%\n",
      "Duplication rate: 2.564\n",
      "0.0     66013\n",
      "1.0      9862\n",
      "2.0      8499\n",
      "3.0      4562\n",
      "4.0      1991\n",
      "5.0      1126\n",
      "6.0       612\n",
      "7.0       233\n",
      "8.0       143\n",
      "9.0        93\n",
      "10.0       13\n",
      "11.0       23\n",
      "12.0       14\n",
      "14.0       13\n",
      "15.0       14\n",
      "16.0       32\n",
      "17.0       25\n",
      "31.0       13\n",
      "34.0        8\n",
      "Name: highway08_spread, dtype: int64\n",
      "0.0     70.761826\n",
      "1.0     10.571450\n",
      "2.0      9.110399\n",
      "3.0      4.890180\n",
      "4.0      2.134228\n",
      "5.0      1.207002\n",
      "6.0      0.656026\n",
      "7.0      0.249761\n",
      "8.0      0.153287\n",
      "9.0      0.099690\n",
      "10.0     0.013935\n",
      "11.0     0.024655\n",
      "12.0     0.015007\n",
      "14.0     0.013935\n",
      "15.0     0.015007\n",
      "16.0     0.034302\n",
      "17.0     0.026798\n",
      "31.0     0.013935\n",
      "34.0     0.008576\n",
      "Name: highway08_spread, dtype: float64\n",
      "0.0     67715\n",
      "1.0     13339\n",
      "2.0      7728\n",
      "3.0      2445\n",
      "4.0      1063\n",
      "5.0       460\n",
      "6.0       230\n",
      "7.0       130\n",
      "8.0         4\n",
      "9.0        23\n",
      "10.0       22\n",
      "11.0        7\n",
      "12.0       33\n",
      "15.0       27\n",
      "16.0       23\n",
      "17.0        1\n",
      "18.0       11\n",
      "19.0        7\n",
      "40.0       13\n",
      "45.0        8\n",
      "Name: comb08_spread, dtype: int64\n",
      "0.0     72.586264\n",
      "1.0     14.298578\n",
      "2.0      8.283935\n",
      "3.0      2.620888\n",
      "4.0      1.139470\n",
      "5.0      0.493091\n",
      "6.0      0.246546\n",
      "7.0      0.139352\n",
      "8.0      0.004288\n",
      "9.0      0.024655\n",
      "10.0     0.023583\n",
      "11.0     0.007504\n",
      "12.0     0.035374\n",
      "15.0     0.028942\n",
      "16.0     0.024655\n",
      "17.0     0.001072\n",
      "18.0     0.011791\n",
      "19.0     0.007504\n",
      "40.0     0.013935\n",
      "45.0     0.008576\n",
      "Name: comb08_spread, dtype: float64\n",
      "0.0     69909\n",
      "1.0     14011\n",
      "2.0      5927\n",
      "3.0      1759\n",
      "4.0       919\n",
      "5.0       389\n",
      "6.0       148\n",
      "7.0        14\n",
      "8.0        51\n",
      "9.0        14\n",
      "10.0       24\n",
      "11.0        5\n",
      "13.0       21\n",
      "14.0       21\n",
      "15.0       14\n",
      "18.0        1\n",
      "21.0       34\n",
      "23.0        7\n",
      "50.0       13\n",
      "53.0        8\n",
      "Name: city08_spread, dtype: int64\n",
      "0.0     74.938096\n",
      "1.0     15.018920\n",
      "2.0      6.353375\n",
      "3.0      1.885538\n",
      "4.0      0.985111\n",
      "5.0      0.416984\n",
      "6.0      0.158647\n",
      "7.0      0.015007\n",
      "8.0      0.054669\n",
      "9.0      0.015007\n",
      "10.0     0.025727\n",
      "11.0     0.005360\n",
      "13.0     0.022511\n",
      "14.0     0.022511\n",
      "15.0     0.015007\n",
      "18.0     0.001072\n",
      "21.0     0.036446\n",
      "23.0     0.007504\n",
      "50.0     0.013935\n",
      "53.0     0.008576\n",
      "Name: city08_spread, dtype: float64\n",
      "Unique matches: 62.48%\n"
     ]
    }
   ],
   "source": [
    "%run merge\n",
    "dfs = output(vin, epa, matched_vins, export=True, export_all=True)"
   ]
  },
  {
   "cell_type": "markdown",
   "metadata": {},
   "source": [
    "## Debugging"
   ]
  },
  {
   "cell_type": "code",
   "execution_count": 102,
   "metadata": {
    "collapsed": true
   },
   "outputs": [],
   "source": [
    "vin, epa = vin_expanded.copy(), epa_expanded.copy()\n",
    "\n",
    "# Make the counts integers. \n",
    "vin['counts'] = vin['counts'].astype(int)\n",
    "\n",
    "# Modify transmission information\n",
    "## In vin DB: turn transmission speeds into integers then strings.\n",
    "vin['transmission_speeds_mod'] = vin['transmission_speeds'].apply(lambda s: unicode(try_int(s)))\n",
    "## In epa DB: transform info in epa database to get trammission speeds and types.\n",
    "## Transmission speeds.\n",
    "def get_transmission_speeds(s):\n",
    "    try:\n",
    "        return re.search(r'\\d+', s).group()\n",
    "    except:\n",
    "        return None\n",
    "## Transmission type.\n",
    "def get_transmission_type(s):\n",
    "    if isinstance(s, unicode):\n",
    "        if re.search(r'auto', s):\n",
    "            return \"auto\"\n",
    "        else:\n",
    "            return \"manu\"\n",
    "## Apply to epa.\n",
    "epa['transmission_speeds_mod'] = epa['transmission_speeds'] = epa.trany.apply(get_transmission_speeds)\n",
    "epa['transmission_type_mod'] = epa['transmission_type'] = epa.trany.apply(get_transmission_type)\n",
    "\n",
    "# Round displacement in both databases.\n",
    "def convert_displacement(s):\n",
    "    if re.findall(',', s):\n",
    "        return unicode(round(float(s.split(',')[0]), 1))\n",
    "    elif s == u'-1':\n",
    "        return s\n",
    "    else:\n",
    "        return unicode(round(float(s), 1))\n",
    "for df in (epa, vin):\n",
    "    df['displ_mod'] = df['displ'].apply(convert_displacement)\n",
    "\n",
    "# Change type of mpg values to be floats. \n",
    "mpg_list = 'highway08, highway08U, comb08, comb08U, city08, city08U'.split(', ')\n",
    "epa[mpg_list] = epa[mpg_list].astype(float)\n",
    "\n",
    "# Add vtyp3 for epa. \n",
    "epa['vtyp3'] = u'-1'\n",
    "epa.loc[epa.VClass.str.contains('pickup') & epa.model.str.contains('15|10'), 'vtyp3'] = u'3'\n",
    "epa.loc[epa.VClass.str.contains('pickup') & epa.model.str.contains('25|35'), 'vtyp3'] = u'4'\n",
    "\n",
    "# Add weight variable. \n",
    "weight_df = vin.GVWR.str.extract(r'([\\d,]*) lb').fillna('0')\n",
    "if pd.__version__ <= u'0.22.0':\n",
    "    weight_series = weight_df\n",
    "else:\n",
    "    weight_series = weight_df[0]\n",
    "vin['weight'] = weight_series.str.replace(',', '').astype(int)\n",
    "\n",
    "# Drop heavy vehicles. \n",
    "weight_limit = 9000\n",
    "vin = vin.loc[vin.weight < weight_limit]\n",
    "\n",
    "# Modify makes.\n",
    "vin, epa = mod_makes(vin, epa)"
   ]
  },
  {
   "cell_type": "code",
   "execution_count": 95,
   "metadata": {},
   "outputs": [
    {
     "data": {
      "text/plain": [
       "81"
      ]
     },
     "execution_count": 95,
     "metadata": {},
     "output_type": "execute_result"
    }
   ],
   "source": [
    "len(epa.loc[(epa.make == 'lexus') & (epa.model_mod.str.contains(r'(?:gs|sc)\\d+')), \n",
    "        'model_mod'].str.extract(r'(\\D+)\\d+'))"
   ]
  },
  {
   "cell_type": "code",
   "execution_count": 96,
   "metadata": {},
   "outputs": [
    {
     "data": {
      "text/plain": [
       "81"
      ]
     },
     "execution_count": 96,
     "metadata": {},
     "output_type": "execute_result"
    }
   ],
   "source": [
    "len(epa.loc[(epa.make == 'lexus') & (epa.model_mod.str.contains(r'(?:gs|sc)\\d+')), 'model_mod'])"
   ]
  },
  {
   "cell_type": "code",
   "execution_count": 103,
   "metadata": {
    "collapsed": true
   },
   "outputs": [],
   "source": [
    "epa.loc[(epa.make == 'lexus') & (epa.model_mod.str.contains(r'(?:gs|sc)\\d+')), 'model_mod'] = \\\n",
    "    epa.loc[(epa.make == 'lexus') & (epa.model_mod.str.contains(r'(?:gs|sc)\\d+')), \n",
    "        'model_mod'].str.extract(r'(\\D+)\\d+').values\n"
   ]
  },
  {
   "cell_type": "code",
   "execution_count": 88,
   "metadata": {},
   "outputs": [
    {
     "data": {
      "text/plain": [
       "False"
      ]
     },
     "execution_count": 88,
     "metadata": {},
     "output_type": "execute_result"
    }
   ],
   "source": [
    "any(vin.model_mod.isna())"
   ]
  },
  {
   "cell_type": "code",
   "execution_count": 104,
   "metadata": {},
   "outputs": [
    {
     "data": {
      "text/plain": [
       "False"
      ]
     },
     "execution_count": 104,
     "metadata": {},
     "output_type": "execute_result"
    }
   ],
   "source": [
    "any(epa.model_mod.isna())"
   ]
  },
  {
   "cell_type": "code",
   "execution_count": 69,
   "metadata": {},
   "outputs": [
    {
     "ename": "ValueError",
     "evalue": "cannot index with vector containing NA / NaN values",
     "output_type": "error",
     "traceback": [
      "\u001b[1;31m---------------------------------------------------------------------------\u001b[0m",
      "\u001b[1;31mValueError\u001b[0m                                Traceback (most recent call last)",
      "\u001b[1;32m<ipython-input-69-c4b7affa9a39>\u001b[0m in \u001b[0;36m<module>\u001b[1;34m()\u001b[0m\n\u001b[1;32m----> 1\u001b[1;33m \u001b[0mepa\u001b[0m\u001b[1;33m.\u001b[0m\u001b[0mloc\u001b[0m\u001b[1;33m[\u001b[0m\u001b[0mepa\u001b[0m\u001b[1;33m.\u001b[0m\u001b[0mmodel_mod\u001b[0m\u001b[1;33m.\u001b[0m\u001b[0mstr\u001b[0m\u001b[1;33m.\u001b[0m\u001b[0mcontains\u001b[0m\u001b[1;33m(\u001b[0m\u001b[1;34m'john cooper works'\u001b[0m\u001b[1;33m)\u001b[0m\u001b[1;33m]\u001b[0m\u001b[1;33m.\u001b[0m\u001b[0mindex\u001b[0m\u001b[1;33m\u001b[0m\u001b[0m\n\u001b[0m",
      "\u001b[1;32mC:\\Anaconda\\lib\\site-packages\\pandas\\core\\indexing.pyc\u001b[0m in \u001b[0;36m__getitem__\u001b[1;34m(self, key)\u001b[0m\n\u001b[0;32m   1476\u001b[0m \u001b[1;33m\u001b[0m\u001b[0m\n\u001b[0;32m   1477\u001b[0m             \u001b[0mmaybe_callable\u001b[0m \u001b[1;33m=\u001b[0m \u001b[0mcom\u001b[0m\u001b[1;33m.\u001b[0m\u001b[0m_apply_if_callable\u001b[0m\u001b[1;33m(\u001b[0m\u001b[0mkey\u001b[0m\u001b[1;33m,\u001b[0m \u001b[0mself\u001b[0m\u001b[1;33m.\u001b[0m\u001b[0mobj\u001b[0m\u001b[1;33m)\u001b[0m\u001b[1;33m\u001b[0m\u001b[0m\n\u001b[1;32m-> 1478\u001b[1;33m             \u001b[1;32mreturn\u001b[0m \u001b[0mself\u001b[0m\u001b[1;33m.\u001b[0m\u001b[0m_getitem_axis\u001b[0m\u001b[1;33m(\u001b[0m\u001b[0mmaybe_callable\u001b[0m\u001b[1;33m,\u001b[0m \u001b[0maxis\u001b[0m\u001b[1;33m=\u001b[0m\u001b[0maxis\u001b[0m\u001b[1;33m)\u001b[0m\u001b[1;33m\u001b[0m\u001b[0m\n\u001b[0m\u001b[0;32m   1479\u001b[0m \u001b[1;33m\u001b[0m\u001b[0m\n\u001b[0;32m   1480\u001b[0m     \u001b[1;32mdef\u001b[0m \u001b[0m_is_scalar_access\u001b[0m\u001b[1;33m(\u001b[0m\u001b[0mself\u001b[0m\u001b[1;33m,\u001b[0m \u001b[0mkey\u001b[0m\u001b[1;33m)\u001b[0m\u001b[1;33m:\u001b[0m\u001b[1;33m\u001b[0m\u001b[0m\n",
      "\u001b[1;32mC:\\Anaconda\\lib\\site-packages\\pandas\\core\\indexing.pyc\u001b[0m in \u001b[0;36m_getitem_axis\u001b[1;34m(self, key, axis)\u001b[0m\n\u001b[0;32m   1865\u001b[0m             \u001b[0mself\u001b[0m\u001b[1;33m.\u001b[0m\u001b[0m_validate_key\u001b[0m\u001b[1;33m(\u001b[0m\u001b[0mkey\u001b[0m\u001b[1;33m,\u001b[0m \u001b[0maxis\u001b[0m\u001b[1;33m)\u001b[0m\u001b[1;33m\u001b[0m\u001b[0m\n\u001b[0;32m   1866\u001b[0m             \u001b[1;32mreturn\u001b[0m \u001b[0mself\u001b[0m\u001b[1;33m.\u001b[0m\u001b[0m_get_slice_axis\u001b[0m\u001b[1;33m(\u001b[0m\u001b[0mkey\u001b[0m\u001b[1;33m,\u001b[0m \u001b[0maxis\u001b[0m\u001b[1;33m=\u001b[0m\u001b[0maxis\u001b[0m\u001b[1;33m)\u001b[0m\u001b[1;33m\u001b[0m\u001b[0m\n\u001b[1;32m-> 1867\u001b[1;33m         \u001b[1;32melif\u001b[0m \u001b[0mcom\u001b[0m\u001b[1;33m.\u001b[0m\u001b[0mis_bool_indexer\u001b[0m\u001b[1;33m(\u001b[0m\u001b[0mkey\u001b[0m\u001b[1;33m)\u001b[0m\u001b[1;33m:\u001b[0m\u001b[1;33m\u001b[0m\u001b[0m\n\u001b[0m\u001b[0;32m   1868\u001b[0m             \u001b[1;32mreturn\u001b[0m \u001b[0mself\u001b[0m\u001b[1;33m.\u001b[0m\u001b[0m_getbool_axis\u001b[0m\u001b[1;33m(\u001b[0m\u001b[0mkey\u001b[0m\u001b[1;33m,\u001b[0m \u001b[0maxis\u001b[0m\u001b[1;33m=\u001b[0m\u001b[0maxis\u001b[0m\u001b[1;33m)\u001b[0m\u001b[1;33m\u001b[0m\u001b[0m\n\u001b[0;32m   1869\u001b[0m         \u001b[1;32melif\u001b[0m \u001b[0mis_list_like_indexer\u001b[0m\u001b[1;33m(\u001b[0m\u001b[0mkey\u001b[0m\u001b[1;33m)\u001b[0m\u001b[1;33m:\u001b[0m\u001b[1;33m\u001b[0m\u001b[0m\n",
      "\u001b[1;32mC:\\Anaconda\\lib\\site-packages\\pandas\\core\\common.pyc\u001b[0m in \u001b[0;36mis_bool_indexer\u001b[1;34m(key)\u001b[0m\n\u001b[0;32m    105\u001b[0m             \u001b[1;32mif\u001b[0m \u001b[1;32mnot\u001b[0m \u001b[0mlib\u001b[0m\u001b[1;33m.\u001b[0m\u001b[0mis_bool_array\u001b[0m\u001b[1;33m(\u001b[0m\u001b[0mkey\u001b[0m\u001b[1;33m)\u001b[0m\u001b[1;33m:\u001b[0m\u001b[1;33m\u001b[0m\u001b[0m\n\u001b[0;32m    106\u001b[0m                 \u001b[1;32mif\u001b[0m \u001b[0misna\u001b[0m\u001b[1;33m(\u001b[0m\u001b[0mkey\u001b[0m\u001b[1;33m)\u001b[0m\u001b[1;33m.\u001b[0m\u001b[0many\u001b[0m\u001b[1;33m(\u001b[0m\u001b[1;33m)\u001b[0m\u001b[1;33m:\u001b[0m\u001b[1;33m\u001b[0m\u001b[0m\n\u001b[1;32m--> 107\u001b[1;33m                     raise ValueError('cannot index with vector containing '\n\u001b[0m\u001b[0;32m    108\u001b[0m                                      'NA / NaN values')\n\u001b[0;32m    109\u001b[0m                 \u001b[1;32mreturn\u001b[0m \u001b[0mFalse\u001b[0m\u001b[1;33m\u001b[0m\u001b[0m\n",
      "\u001b[1;31mValueError\u001b[0m: cannot index with vector containing NA / NaN values"
     ]
    }
   ],
   "source": [
    "# For Lexus models, drop the numbers. \n",
    "# Get rid of 'new' from all volkswagen models. \n",
    "vin.loc[(vin.make == 'volkswagen') & (vin.model_mod.str.contains('new')), 'model_mod'] = \\\n",
    "    vin.loc[(vin.make == 'volkswagen') & (vin.model_mod.str.contains('new')), 'model_mod'].str.extract('new(.*)')\n",
    "epa.loc[(epa.make == 'volkswagen') & (epa.model_mod.str.contains('new')), 'model_mod'] = \\\n",
    "    epa.loc[(epa.make == 'volkswagen') & (epa.model_mod.str.contains('new')), 'model_mod'].str.extract('new(.*)')\n",
    "# In EPA, change the model name to crosstour when the model name contains that string. \n",
    "epa.loc[(epa.make == 'honda') & (epa.model.str.contains('crosstour')), 'model_mod'] = 'crosstour'\n",
    "# EPA has a separate model called accord wagon; in VIN, BodyClass identifies the wagons; \n",
    "# so we create a separate model in VIN called accord-wagon.\n",
    "vin.loc[(vin.make == 'honda') & (vin.model == 'accord') & (vin.BodyClass == 'wagon'), 'model_mod'] = 'accord-wagon'\n",
    "epa.loc[(epa.make == 'honda') & (epa.model == 'accord wagon'), 'model_mod'] = 'accord-wagon'\n",
    "# Honda HX. \n",
    "epa.loc[(epa.model.str.contains('(?=(?:.*civic.*))(?=(?:.*hx.*))')) & (epa.make == 'honda'), \n",
    "    'model_mod'] = 'civichx'\n",
    "vin.loc[(vin.Series.str.contains('hx')) & (vin.model.str.contains('civic')) & (vin.make == 'honda'), \n",
    "    'model_mod'] = 'civichx'\n",
    "# EPA has a separate model called matrix, whereas VIN has a model corolla matrix; \n",
    "# so we create a separate model in VIN called matrix.\n",
    "vin.loc[(vin.make == 'toyota') & (vin.model == 'corolla matrix'), 'model_mod'] = 'matrix'\n",
    "## Modify acura models. \n",
    "epa.loc[(epa.make == 'acura') & epa.model.str.contains(r'\\d\\.\\d.*'), 'model_mod'] = \\\n",
    "    epa.loc[(epa.make == 'acura') & epa.model.str.contains(r'\\d\\.\\d.*'), 'model_mod'].apply(\n",
    "        lambda s: re.sub(r'\\d\\.\\d(.*)', r'\\1', s))\n",
    "## Infiniti. \n",
    "epa.loc[(epa.make == 'infiniti') & epa.model.str.contains(r'(?=.*?)x(?=$|\\s)'), 'model_mod'] = \\\n",
    "    epa.loc[(epa.make == 'infiniti') & epa.model.str.contains(r'(?=.*?)x(?=$|\\s)'), 'model_mod'].apply(\n",
    "        lambda s: re.sub(r'(.*?)x(?=$|\\s).*', r'\\1', s))\n",
    "## Nissan. \n",
    "epa.loc[(epa.make == 'nissan'), 'model_mod'] = \\\n",
    "    epa.loc[(epa.make == 'nissan'), 'model_mod'].replace('truck', 'pickup', regex=True)\n",
    "epa.loc[epa.model.str.contains('pathfinder armada'), 'model_mod']\t= 'armada'\n",
    "## BMW. \n",
    "epa.loc[(epa.make == 'bmw'), 'model_mod'] = epa.loc[(epa.make == 'bmw'), 'model_mod'].apply(lambda s: s[0])\n",
    "vin.loc[(vin.make == 'bmw'), 'model_mod'] = vin.loc[(vin.make == 'bmw'), 'model_mod'].apply(lambda s: s[0])\n",
    "## Delete from EPA all models that contain chassis in model name. \n",
    "epa = epa.loc[~epa.model.str.contains('chassis')]\n",
    "## All models with displacements in the model name, e.g. '190e 2.3-16'\n",
    "def mod_models_w_displ(s):\n",
    "    pattern = re.compile(r'(.*)\\d\\.\\d(.*)')\n",
    "    groups = re.search(pattern, s).groups()\n",
    "    return groups[0].strip() or groups[1].strip()\n",
    "## Lincoln.\n",
    "### Replace 'zephyr' with 'mkz' for VIN for make 'lincoln'\n",
    "vin.loc[(vin.make == 'lincoln') & (vin.model.str.contains('zephyr')), 'model_mod'] = 'mkz'\n",
    "## Ford.\n",
    "### Replace 'ltd crown victoria' with 'crown victoria' in EPA for make 'ford'\n",
    "epa.loc[(epa.make == 'ford') & (epa.model.str.contains('ltd crown victoria')), 'model_mod'] = 'crown victoria'\n",
    "### Replace 'crown victoria' with 'crown victoria police' in VIN for make 'ford' if `series = 'police interceptor'`\n",
    "vin.loc[(vin.make == 'ford') & (vin.model.str.contains('crown victoria')) & (vin.Series == 'police interceptor'),\n",
    "    'model_mod'] = 'crown victoria police'\n",
    "## Chrysler. \n",
    "### Replace '300c' and '300c/srt' with '300' in EPA\n",
    "epa.loc[(epa.make == 'chrysler') & (epa.model.str.contains('300')), 'model_mod'] = '300'\n",
    "## Saturn.\n",
    "### Replace L100/200 with LS1 in EPA when year is larger than 2001 (inclusive)\n",
    "epa.loc[(epa.make == 'saturn') & (epa.model == 'l100/200') & (epa.year >= 2001), 'model_mod'] = 'ls1'\n",
    "vin.loc[(vin.make == 'saturn') & (vin.model_mod != 'ls1'), 'model_mod'] = \\\n",
    "    vin.loc[(vin.make == 'saturn') & (vin.model_mod != 'ls1'), 'model_mod'].apply(\n",
    "        lambda s: re.search(r'([^\\d]+)[\\d]', s).groups()[0] if re.search(r'([^\\d]+)[\\d]', s) else s)\n",
    "## Mercedes. \n",
    "class_index = vin.loc[(vin.make == 'mercedes-benz') & (vin.model.str.contains(r'(?:\\D+)-class'))].index\n",
    "vin.loc[class_index, 'model_mod'] = vin.loc[class_index, 'model'].str.extract(r'(\\D+)-class')\n",
    "digit_class_index = vin.loc[(vin.make == 'mercedes-benz') & (vin.model.str.contains(r'(?:\\d+)'))].index\n",
    "vin.loc[digit_class_index, 'model_mod'] = \\\n",
    "    vin.loc[digit_class_index, 'Series'].str.split(' ').apply(lambda xs: xs[0]).str.extract(r'.*?(\\D+)')\n",
    "vin.loc[(vin.make == 'mercedes-benz') & (vin.model_mod == 'm'), 'model_mod'] = 'ml'\n",
    "### AMG models.\n",
    "vin.loc[(vin.make == 'mercedes-benz'), 'model_mod'], epa.loc[(epa.make == 'mercedes-benz'), 'model_mod'] = \\\n",
    "    [df.loc[(df.make == 'mercedes-benz'), 'model_mod'].str.replace('amg', '').str.strip() for df in (vin, epa)]\n",
    "### Get the models that start with numbers, e.g. 190 sl and 200sel, and keep only the numbers.\n",
    "index = epa.loc[(epa.make == 'mercedes-benz') & (epa.model.str.contains(r'^\\d+')), 'model_mod'].index\n",
    "epa.loc[index, 'model_mod'] = epa.loc[index, 'model_mod'].str.extract(r'^(\\d+)')\n",
    "### Get the models that start with letters, e.g. sl190 and sel 190, and keep only the letters.\n",
    "index = epa.loc[(epa.make == 'mercedes-benz') & (epa.model.str.contains(r'^\\D+')), 'model_mod'].index\n",
    "epa.loc[index, 'model_mod'] = epa.loc[index, 'model_mod'].str.extract(r'^(\\D+)')\n",
    "## Toyota. \n",
    "### Prius Eco\n",
    "vin.loc[(vin.VIN.apply(lambda s: s[3:8]) == 'karfu') & (vin.model_mod.str.contains('prius')), 'model_mod'] = 'priuseco'\n",
    "epa.loc[epa.model.str.contains('prius plug-in'), 'model_mod'] = 'prius plug-in'\n",
    "pattern = r'c|v|prime|plug-in|eco'\n",
    "vin.loc[vin.model.str.contains(r'prius (?:{})'.format(pattern)), 'model_mod'] = \\\n",
    "    vin.loc[vin.model.str.contains(r'prius (?:{})'.format(pattern)), 'model_mod'].apply(lambda s: s.replace(' ', ''))\n",
    "epa.loc[epa.model.str.contains(r'prius (?:{})'.format(pattern)), 'model_mod'] = \\\n",
    "    epa.loc[epa.model.str.contains(r'prius (?:{})'.format(pattern)), 'model_mod'].apply(lambda s: s.replace(' ', ''))\n",
    "vin.loc[vin.make == 'scion', 'model_mod'] = \\\n",
    "    vin.loc[vin.make == 'scion', 'model_mod'].apply(lambda x: x.split(' ')[1] if len(x.split(' '))>1 else x)\n",
    "epa.loc[epa.model.str.contains('solara'), 'model_mod'] = 'solara'\n",
    "vin.loc[vin.model.str.contains('4-runner'), 'model_mod'] = '4runner'\n",
    "epa.loc[(epa.make == 'toyota'), 'model_mod'] = \\\n",
    "    epa.loc[(epa.make == 'toyota'), 'model_mod'].replace('truck', 'pickup', regex=True)\n",
    "vin.loc[(vin.make == 'toyota') & (vin.model == 'camry') & (vin.year == 2002) & (vin.displ_mod == '2.2'),\n",
    "    'displ_mod'] = '2.4'\n",
    "## Mazda.\n",
    "def delete_mazda(s):\n",
    "    match = re.search('mazda(.*)', s)\n",
    "    if match:\n",
    "        return match.groups()[0]\n",
    "    else:\n",
    "        return s\n",
    "vin.loc[vin['make'] == 'mazda', 'model_mod'] = \\\n",
    "    vin.loc[vin['make'] == 'mazda', 'model_mod'].apply(delete_mazda)\n",
    "epa.loc[(epa.make == 'mazda') & (epa.model_mod.str.contains(r'^b\\d')), 'model_mod'] = \\\n",
    "    epa.loc[(epa.make == 'mazda') & (epa.model_mod.str.contains(r'^b\\d')), 'model_mod'].apply(lambda x: x[0])\n",
    "### Add displacement and cylinder where it's missing.\n",
    "vin.loc[(vin['make'] == 'mazda') & vin.model.str.contains('626') & \n",
    "    vin.VIN.apply(lambda x: x[7]).isin('c,e'.split(',')), 'displ_mod'] = 2.0\n",
    "vin.loc[(vin['make'] == 'mazda') & vin.model.str.contains('626') & \n",
    "    vin.VIN.apply(lambda x: x[7]).isin('d,f'.split(',')), 'displ_mod'] = 2.5\n",
    "vin.loc[(vin['make'] == 'mazda') & vin.model.str.contains('protege') & \n",
    "    vin.VIN.apply(lambda x: x[6:8]).isin('41'.split(',')), 'displ_mod'] = 1.5\n",
    "vin.loc[(vin['make'] == 'mazda') & vin.model.str.contains('protege') & \n",
    "    vin.VIN.apply(lambda x: x[6:8]).isin('42,21,23'.split(',')), 'displ_mod'] = 1.8\n",
    "vin.loc[(vin['make'] == 'mazda') & vin.model.str.contains('protege') & \n",
    "    vin.VIN.apply(lambda x: x[6:8]).isin('22,24'.split(',')), 'displ_mod'] = 1.6\n",
    "## Mini. "
   ]
  },
  {
   "cell_type": "code",
   "execution_count": 107,
   "metadata": {},
   "outputs": [
    {
     "data": {
      "text/html": [
       "<div>\n",
       "<style scoped>\n",
       "    .dataframe tbody tr th:only-of-type {\n",
       "        vertical-align: middle;\n",
       "    }\n",
       "\n",
       "    .dataframe tbody tr th {\n",
       "        vertical-align: top;\n",
       "    }\n",
       "\n",
       "    .dataframe thead th {\n",
       "        text-align: right;\n",
       "    }\n",
       "</style>\n",
       "<table border=\"1\" class=\"dataframe\">\n",
       "  <thead>\n",
       "    <tr style=\"text-align: right;\">\n",
       "      <th></th>\n",
       "      <th>city08</th>\n",
       "      <th>city08U</th>\n",
       "      <th>comb08</th>\n",
       "      <th>comb08U</th>\n",
       "      <th>cylinders</th>\n",
       "      <th>displ</th>\n",
       "      <th>drive</th>\n",
       "      <th>eng_dscr</th>\n",
       "      <th>fuelType1</th>\n",
       "      <th>highway08</th>\n",
       "      <th>...</th>\n",
       "      <th>EPA_ID</th>\n",
       "      <th>transmission_speeds_mod</th>\n",
       "      <th>transmission_speeds</th>\n",
       "      <th>transmission_type_mod</th>\n",
       "      <th>transmission_type</th>\n",
       "      <th>displ_mod</th>\n",
       "      <th>vtyp3</th>\n",
       "      <th>type</th>\n",
       "      <th>vtyp</th>\n",
       "      <th>vtyp2</th>\n",
       "    </tr>\n",
       "  </thead>\n",
       "  <tbody>\n",
       "    <tr>\n",
       "      <th>0</th>\n",
       "      <td>19.0</td>\n",
       "      <td>0.0</td>\n",
       "      <td>21.0</td>\n",
       "      <td>0.0</td>\n",
       "      <td>4</td>\n",
       "      <td>2.0</td>\n",
       "      <td>rear-wheel drive</td>\n",
       "      <td>(ffs)</td>\n",
       "      <td>regular gasoline</td>\n",
       "      <td>25.0</td>\n",
       "      <td>...</td>\n",
       "      <td>1</td>\n",
       "      <td>5</td>\n",
       "      <td>5</td>\n",
       "      <td>manu</td>\n",
       "      <td>manu</td>\n",
       "      <td>2.0</td>\n",
       "      <td>-1</td>\n",
       "      <td>0</td>\n",
       "      <td>car</td>\n",
       "      <td>car</td>\n",
       "    </tr>\n",
       "    <tr>\n",
       "      <th>1</th>\n",
       "      <td>9.0</td>\n",
       "      <td>0.0</td>\n",
       "      <td>11.0</td>\n",
       "      <td>0.0</td>\n",
       "      <td>12</td>\n",
       "      <td>4.9</td>\n",
       "      <td>rear-wheel drive</td>\n",
       "      <td>(guzzler)</td>\n",
       "      <td>regular gasoline</td>\n",
       "      <td>14.0</td>\n",
       "      <td>...</td>\n",
       "      <td>2</td>\n",
       "      <td>5</td>\n",
       "      <td>5</td>\n",
       "      <td>manu</td>\n",
       "      <td>manu</td>\n",
       "      <td>4.9</td>\n",
       "      <td>-1</td>\n",
       "      <td>0</td>\n",
       "      <td>car</td>\n",
       "      <td>car</td>\n",
       "    </tr>\n",
       "    <tr>\n",
       "      <th>2</th>\n",
       "      <td>23.0</td>\n",
       "      <td>0.0</td>\n",
       "      <td>27.0</td>\n",
       "      <td>0.0</td>\n",
       "      <td>4</td>\n",
       "      <td>2.2</td>\n",
       "      <td>front-wheel drive</td>\n",
       "      <td>(ffs)</td>\n",
       "      <td>regular gasoline</td>\n",
       "      <td>33.0</td>\n",
       "      <td>...</td>\n",
       "      <td>3</td>\n",
       "      <td>5</td>\n",
       "      <td>5</td>\n",
       "      <td>manu</td>\n",
       "      <td>manu</td>\n",
       "      <td>2.2</td>\n",
       "      <td>-1</td>\n",
       "      <td>0</td>\n",
       "      <td>car</td>\n",
       "      <td>car</td>\n",
       "    </tr>\n",
       "    <tr>\n",
       "      <th>3</th>\n",
       "      <td>10.0</td>\n",
       "      <td>0.0</td>\n",
       "      <td>11.0</td>\n",
       "      <td>0.0</td>\n",
       "      <td>8</td>\n",
       "      <td>5.2</td>\n",
       "      <td>rear-wheel drive</td>\n",
       "      <td>-1</td>\n",
       "      <td>regular gasoline</td>\n",
       "      <td>12.0</td>\n",
       "      <td>...</td>\n",
       "      <td>4</td>\n",
       "      <td>3</td>\n",
       "      <td>3</td>\n",
       "      <td>auto</td>\n",
       "      <td>auto</td>\n",
       "      <td>5.2</td>\n",
       "      <td>-1</td>\n",
       "      <td>0</td>\n",
       "      <td>van</td>\n",
       "      <td>van</td>\n",
       "    </tr>\n",
       "    <tr>\n",
       "      <th>4</th>\n",
       "      <td>10.0</td>\n",
       "      <td>0.0</td>\n",
       "      <td>11.0</td>\n",
       "      <td>0.0</td>\n",
       "      <td>8</td>\n",
       "      <td>5.2</td>\n",
       "      <td>rear-wheel drive</td>\n",
       "      <td>-1</td>\n",
       "      <td>regular gasoline</td>\n",
       "      <td>12.0</td>\n",
       "      <td>...</td>\n",
       "      <td>5</td>\n",
       "      <td>3</td>\n",
       "      <td>3</td>\n",
       "      <td>auto</td>\n",
       "      <td>auto</td>\n",
       "      <td>5.2</td>\n",
       "      <td>-1</td>\n",
       "      <td>0</td>\n",
       "      <td>van</td>\n",
       "      <td>van</td>\n",
       "    </tr>\n",
       "  </tbody>\n",
       "</table>\n",
       "<p>5 rows × 32 columns</p>\n",
       "</div>"
      ],
      "text/plain": [
       "   city08  city08U  comb08  comb08U cylinders displ              drive  \\\n",
       "0    19.0      0.0    21.0      0.0         4   2.0   rear-wheel drive   \n",
       "1     9.0      0.0    11.0      0.0        12   4.9   rear-wheel drive   \n",
       "2    23.0      0.0    27.0      0.0         4   2.2  front-wheel drive   \n",
       "3    10.0      0.0    11.0      0.0         8   5.2   rear-wheel drive   \n",
       "4    10.0      0.0    11.0      0.0         8   5.2   rear-wheel drive   \n",
       "\n",
       "    eng_dscr         fuelType1  highway08  ...   EPA_ID  \\\n",
       "0      (ffs)  regular gasoline       25.0  ...        1   \n",
       "1  (guzzler)  regular gasoline       14.0  ...        2   \n",
       "2      (ffs)  regular gasoline       33.0  ...        3   \n",
       "3         -1  regular gasoline       12.0  ...        4   \n",
       "4         -1  regular gasoline       12.0  ...        5   \n",
       "\n",
       "  transmission_speeds_mod transmission_speeds transmission_type_mod  \\\n",
       "0                       5                   5                  manu   \n",
       "1                       5                   5                  manu   \n",
       "2                       5                   5                  manu   \n",
       "3                       3                   3                  auto   \n",
       "4                       3                   3                  auto   \n",
       "\n",
       "  transmission_type displ_mod vtyp3 type vtyp vtyp2  \n",
       "0              manu       2.0    -1    0  car   car  \n",
       "1              manu       4.9    -1    0  car   car  \n",
       "2              manu       2.2    -1    0  car   car  \n",
       "3              auto       5.2    -1    0  van   van  \n",
       "4              auto       5.2    -1    0  van   van  \n",
       "\n",
       "[5 rows x 32 columns]"
      ]
     },
     "execution_count": 107,
     "metadata": {},
     "output_type": "execute_result"
    }
   ],
   "source": [
    "epa.head()"
   ]
  },
  {
   "cell_type": "code",
   "execution_count": 111,
   "metadata": {},
   "outputs": [
    {
     "data": {
      "text/plain": [
       "array([u'Lumina APV', u'Lumina'], dtype=object)"
      ]
     },
     "execution_count": 111,
     "metadata": {},
     "output_type": "execute_result"
    }
   ],
   "source": [
    "vin_original.loc[(vin_original.Model != None) & (vin_original.Model.str.lower().str.contains('lumina')), 'Model'].unique()"
   ]
  },
  {
   "cell_type": "code",
   "execution_count": 106,
   "metadata": {},
   "outputs": [
    {
     "data": {
      "text/plain": [
       "array([u'lumina', u'lumina/apv minivan 2wd', u'lumina minivan 2wd',\n",
       "       u'lumina/monte carlo'], dtype=object)"
      ]
     },
     "execution_count": 106,
     "metadata": {},
     "output_type": "execute_result"
    }
   ],
   "source": [
    "epa_original_fixed.loc[(epa_original_fixed.model.str.contains('lumina')), 'model'].unique()"
   ]
  },
  {
   "cell_type": "code",
   "execution_count": 195,
   "metadata": {
    "scrolled": true
   },
   "outputs": [
    {
     "data": {
      "text/html": [
       "<div>\n",
       "<style scoped>\n",
       "    .dataframe tbody tr th:only-of-type {\n",
       "        vertical-align: middle;\n",
       "    }\n",
       "\n",
       "    .dataframe tbody tr th {\n",
       "        vertical-align: top;\n",
       "    }\n",
       "\n",
       "    .dataframe thead th {\n",
       "        text-align: right;\n",
       "    }\n",
       "</style>\n",
       "<table border=\"1\" class=\"dataframe\">\n",
       "  <thead>\n",
       "    <tr style=\"text-align: right;\">\n",
       "      <th></th>\n",
       "      <th>cylinders</th>\n",
       "      <th>displ</th>\n",
       "    </tr>\n",
       "  </thead>\n",
       "  <tbody>\n",
       "    <tr>\n",
       "      <th>67561</th>\n",
       "      <td>8</td>\n",
       "      <td>6.6</td>\n",
       "    </tr>\n",
       "    <tr>\n",
       "      <th>67600</th>\n",
       "      <td>8</td>\n",
       "      <td>6.6</td>\n",
       "    </tr>\n",
       "    <tr>\n",
       "      <th>67626</th>\n",
       "      <td>8</td>\n",
       "      <td>6.6</td>\n",
       "    </tr>\n",
       "    <tr>\n",
       "      <th>67662</th>\n",
       "      <td>8</td>\n",
       "      <td>6.6</td>\n",
       "    </tr>\n",
       "    <tr>\n",
       "      <th>67663</th>\n",
       "      <td>8</td>\n",
       "      <td>6.6</td>\n",
       "    </tr>\n",
       "    <tr>\n",
       "      <th>67710</th>\n",
       "      <td>8</td>\n",
       "      <td>6.6</td>\n",
       "    </tr>\n",
       "    <tr>\n",
       "      <th>67712</th>\n",
       "      <td>8</td>\n",
       "      <td>6.6</td>\n",
       "    </tr>\n",
       "    <tr>\n",
       "      <th>67726</th>\n",
       "      <td>8</td>\n",
       "      <td>6.6</td>\n",
       "    </tr>\n",
       "    <tr>\n",
       "      <th>67736</th>\n",
       "      <td>8</td>\n",
       "      <td>6.6</td>\n",
       "    </tr>\n",
       "    <tr>\n",
       "      <th>67743</th>\n",
       "      <td>8</td>\n",
       "      <td>6.6</td>\n",
       "    </tr>\n",
       "    <tr>\n",
       "      <th>67782</th>\n",
       "      <td>8</td>\n",
       "      <td>6.6</td>\n",
       "    </tr>\n",
       "    <tr>\n",
       "      <th>67795</th>\n",
       "      <td>8</td>\n",
       "      <td>6.6</td>\n",
       "    </tr>\n",
       "    <tr>\n",
       "      <th>67833</th>\n",
       "      <td>8</td>\n",
       "      <td>6.6</td>\n",
       "    </tr>\n",
       "    <tr>\n",
       "      <th>67848</th>\n",
       "      <td>8</td>\n",
       "      <td>6.6</td>\n",
       "    </tr>\n",
       "    <tr>\n",
       "      <th>67850</th>\n",
       "      <td>8</td>\n",
       "      <td>6.6</td>\n",
       "    </tr>\n",
       "    <tr>\n",
       "      <th>67863</th>\n",
       "      <td>8</td>\n",
       "      <td>6.6</td>\n",
       "    </tr>\n",
       "    <tr>\n",
       "      <th>67864</th>\n",
       "      <td>8</td>\n",
       "      <td>6.6</td>\n",
       "    </tr>\n",
       "    <tr>\n",
       "      <th>67894</th>\n",
       "      <td>8</td>\n",
       "      <td>6.6</td>\n",
       "    </tr>\n",
       "    <tr>\n",
       "      <th>67897</th>\n",
       "      <td>8</td>\n",
       "      <td>6.6</td>\n",
       "    </tr>\n",
       "    <tr>\n",
       "      <th>67909</th>\n",
       "      <td>8</td>\n",
       "      <td>6.6</td>\n",
       "    </tr>\n",
       "    <tr>\n",
       "      <th>67910</th>\n",
       "      <td>8</td>\n",
       "      <td>6.6</td>\n",
       "    </tr>\n",
       "    <tr>\n",
       "      <th>67940</th>\n",
       "      <td>8</td>\n",
       "      <td>6.6</td>\n",
       "    </tr>\n",
       "    <tr>\n",
       "      <th>67941</th>\n",
       "      <td>8</td>\n",
       "      <td>6.6</td>\n",
       "    </tr>\n",
       "    <tr>\n",
       "      <th>67942</th>\n",
       "      <td>8</td>\n",
       "      <td>6.6</td>\n",
       "    </tr>\n",
       "    <tr>\n",
       "      <th>67943</th>\n",
       "      <td>8</td>\n",
       "      <td>6.6</td>\n",
       "    </tr>\n",
       "    <tr>\n",
       "      <th>67976</th>\n",
       "      <td>8</td>\n",
       "      <td>6.6</td>\n",
       "    </tr>\n",
       "    <tr>\n",
       "      <th>67977</th>\n",
       "      <td>8</td>\n",
       "      <td>6.6</td>\n",
       "    </tr>\n",
       "    <tr>\n",
       "      <th>67978</th>\n",
       "      <td>8</td>\n",
       "      <td>6.6</td>\n",
       "    </tr>\n",
       "    <tr>\n",
       "      <th>67979</th>\n",
       "      <td>8</td>\n",
       "      <td>6.6</td>\n",
       "    </tr>\n",
       "    <tr>\n",
       "      <th>67993</th>\n",
       "      <td>8</td>\n",
       "      <td>6.6</td>\n",
       "    </tr>\n",
       "    <tr>\n",
       "      <th>...</th>\n",
       "      <td>...</td>\n",
       "      <td>...</td>\n",
       "    </tr>\n",
       "    <tr>\n",
       "      <th>68428</th>\n",
       "      <td>8</td>\n",
       "      <td>6.6</td>\n",
       "    </tr>\n",
       "    <tr>\n",
       "      <th>68429</th>\n",
       "      <td>8</td>\n",
       "      <td>6.6</td>\n",
       "    </tr>\n",
       "    <tr>\n",
       "      <th>68431</th>\n",
       "      <td>8</td>\n",
       "      <td>6.6</td>\n",
       "    </tr>\n",
       "    <tr>\n",
       "      <th>68432</th>\n",
       "      <td>8</td>\n",
       "      <td>6.6</td>\n",
       "    </tr>\n",
       "    <tr>\n",
       "      <th>68442</th>\n",
       "      <td>8</td>\n",
       "      <td>6.6</td>\n",
       "    </tr>\n",
       "    <tr>\n",
       "      <th>68469</th>\n",
       "      <td>8</td>\n",
       "      <td>6.6</td>\n",
       "    </tr>\n",
       "    <tr>\n",
       "      <th>68470</th>\n",
       "      <td>8</td>\n",
       "      <td>6.6</td>\n",
       "    </tr>\n",
       "    <tr>\n",
       "      <th>68471</th>\n",
       "      <td>8</td>\n",
       "      <td>6.6</td>\n",
       "    </tr>\n",
       "    <tr>\n",
       "      <th>68472</th>\n",
       "      <td>8</td>\n",
       "      <td>6.6</td>\n",
       "    </tr>\n",
       "    <tr>\n",
       "      <th>68607</th>\n",
       "      <td>8</td>\n",
       "      <td>6.6</td>\n",
       "    </tr>\n",
       "    <tr>\n",
       "      <th>68608</th>\n",
       "      <td>8</td>\n",
       "      <td>6.6</td>\n",
       "    </tr>\n",
       "    <tr>\n",
       "      <th>68609</th>\n",
       "      <td>8</td>\n",
       "      <td>6.6</td>\n",
       "    </tr>\n",
       "    <tr>\n",
       "      <th>68610</th>\n",
       "      <td>8</td>\n",
       "      <td>6.6</td>\n",
       "    </tr>\n",
       "    <tr>\n",
       "      <th>68611</th>\n",
       "      <td>8</td>\n",
       "      <td>6.6</td>\n",
       "    </tr>\n",
       "    <tr>\n",
       "      <th>69357</th>\n",
       "      <td>8</td>\n",
       "      <td>6.6</td>\n",
       "    </tr>\n",
       "    <tr>\n",
       "      <th>69358</th>\n",
       "      <td>8</td>\n",
       "      <td>6.6</td>\n",
       "    </tr>\n",
       "    <tr>\n",
       "      <th>69359</th>\n",
       "      <td>8</td>\n",
       "      <td>6.6</td>\n",
       "    </tr>\n",
       "    <tr>\n",
       "      <th>69360</th>\n",
       "      <td>8</td>\n",
       "      <td>6.6</td>\n",
       "    </tr>\n",
       "    <tr>\n",
       "      <th>69361</th>\n",
       "      <td>8</td>\n",
       "      <td>6.6</td>\n",
       "    </tr>\n",
       "    <tr>\n",
       "      <th>69938</th>\n",
       "      <td>8</td>\n",
       "      <td>6.6</td>\n",
       "    </tr>\n",
       "    <tr>\n",
       "      <th>69939</th>\n",
       "      <td>8</td>\n",
       "      <td>6.6</td>\n",
       "    </tr>\n",
       "    <tr>\n",
       "      <th>69941</th>\n",
       "      <td>8</td>\n",
       "      <td>6.6</td>\n",
       "    </tr>\n",
       "    <tr>\n",
       "      <th>69942</th>\n",
       "      <td>8</td>\n",
       "      <td>6.6</td>\n",
       "    </tr>\n",
       "    <tr>\n",
       "      <th>70204</th>\n",
       "      <td>8</td>\n",
       "      <td>6.6</td>\n",
       "    </tr>\n",
       "    <tr>\n",
       "      <th>70612</th>\n",
       "      <td>8</td>\n",
       "      <td>6.6</td>\n",
       "    </tr>\n",
       "    <tr>\n",
       "      <th>70613</th>\n",
       "      <td>8</td>\n",
       "      <td>6.6</td>\n",
       "    </tr>\n",
       "    <tr>\n",
       "      <th>70614</th>\n",
       "      <td>8</td>\n",
       "      <td>6.6</td>\n",
       "    </tr>\n",
       "    <tr>\n",
       "      <th>70616</th>\n",
       "      <td>8</td>\n",
       "      <td>6.6</td>\n",
       "    </tr>\n",
       "    <tr>\n",
       "      <th>70675</th>\n",
       "      <td>8</td>\n",
       "      <td>6.6</td>\n",
       "    </tr>\n",
       "    <tr>\n",
       "      <th>70677</th>\n",
       "      <td>8</td>\n",
       "      <td>6.6</td>\n",
       "    </tr>\n",
       "  </tbody>\n",
       "</table>\n",
       "<p>92 rows × 2 columns</p>\n",
       "</div>"
      ],
      "text/plain": [
       "      cylinders displ\n",
       "67561         8   6.6\n",
       "67600         8   6.6\n",
       "67626         8   6.6\n",
       "67662         8   6.6\n",
       "67663         8   6.6\n",
       "67710         8   6.6\n",
       "67712         8   6.6\n",
       "67726         8   6.6\n",
       "67736         8   6.6\n",
       "67743         8   6.6\n",
       "67782         8   6.6\n",
       "67795         8   6.6\n",
       "67833         8   6.6\n",
       "67848         8   6.6\n",
       "67850         8   6.6\n",
       "67863         8   6.6\n",
       "67864         8   6.6\n",
       "67894         8   6.6\n",
       "67897         8   6.6\n",
       "67909         8   6.6\n",
       "67910         8   6.6\n",
       "67940         8   6.6\n",
       "67941         8   6.6\n",
       "67942         8   6.6\n",
       "67943         8   6.6\n",
       "67976         8   6.6\n",
       "67977         8   6.6\n",
       "67978         8   6.6\n",
       "67979         8   6.6\n",
       "67993         8   6.6\n",
       "...         ...   ...\n",
       "68428         8   6.6\n",
       "68429         8   6.6\n",
       "68431         8   6.6\n",
       "68432         8   6.6\n",
       "68442         8   6.6\n",
       "68469         8   6.6\n",
       "68470         8   6.6\n",
       "68471         8   6.6\n",
       "68472         8   6.6\n",
       "68607         8   6.6\n",
       "68608         8   6.6\n",
       "68609         8   6.6\n",
       "68610         8   6.6\n",
       "68611         8   6.6\n",
       "69357         8   6.6\n",
       "69358         8   6.6\n",
       "69359         8   6.6\n",
       "69360         8   6.6\n",
       "69361         8   6.6\n",
       "69938         8   6.6\n",
       "69939         8   6.6\n",
       "69941         8   6.6\n",
       "69942         8   6.6\n",
       "70204         8   6.6\n",
       "70612         8   6.6\n",
       "70613         8   6.6\n",
       "70614         8   6.6\n",
       "70616         8   6.6\n",
       "70675         8   6.6\n",
       "70677         8   6.6\n",
       "\n",
       "[92 rows x 2 columns]"
      ]
     },
     "execution_count": 195,
     "metadata": {},
     "output_type": "execute_result"
    }
   ],
   "source": [
    "\tvin_original.loc[(vin_original.year == 2011) & (vin_original.make.str.lower() == 'chevrolet') & \n",
    "\t\t(vin_original.model.str.lxower().str.contains('silverado') & (vin_original.fuelType1_mod == 'diesel')), \n",
    "\t\t['cylinders', 'displ']]\n"
   ]
  },
  {
   "cell_type": "code",
   "execution_count": 203,
   "metadata": {},
   "outputs": [
    {
     "data": {
      "text/plain": [
       "[u'bodyclass',\n",
       " u'counts',\n",
       " 'cylinders',\n",
       " 'displ',\n",
       " 'displ_mod',\n",
       " 'drive',\n",
       " 'drive_mod',\n",
       " 'error_id',\n",
       " 'fueltype1',\n",
       " 'fueltype1_mod',\n",
       " 'fueltype2',\n",
       " u'gvwr',\n",
       " 'make',\n",
       " 'model',\n",
       " 'model_mod',\n",
       " u'series',\n",
       " 'transmission_speeds',\n",
       " 'transmission_speeds_mod',\n",
       " 'transmission_type',\n",
       " 'transmission_type_mod',\n",
       " u'trim',\n",
       " u'trim2',\n",
       " 'type',\n",
       " 'type_from_vin',\n",
       " u'vehicletype',\n",
       " u'vin',\n",
       " 'vin_id',\n",
       " u'vtyp3',\n",
       " 'weight',\n",
       " 'year']"
      ]
     },
     "execution_count": 203,
     "metadata": {},
     "output_type": "execute_result"
    }
   ],
   "source": [
    "sorted(list(vin.columns.str.lower()))"
   ]
  },
  {
   "cell_type": "code",
   "execution_count": 189,
   "metadata": {
    "collapsed": true
   },
   "outputs": [],
   "source": [
    "\tvin_original.loc[(vin_original.year == 2011) & (vin_original.make.str.lower() == 'chevrolet') & \n",
    "\t\t(vin_original.model.str.lower().str.contains('silverado') & (vin_original.fuelType1_mod == 'diesel')), \n",
    "\t\t['cylinders', 'displ']]"
   ]
  },
  {
   "cell_type": "code",
   "execution_count": 182,
   "metadata": {},
   "outputs": [
    {
     "data": {
      "text/plain": [
       "array([u'tahoe', u'suburban'], dtype=object)"
      ]
     },
     "execution_count": 182,
     "metadata": {},
     "output_type": "execute_result"
    }
   ],
   "source": [
    "vin_original.loc[(vin_original.year == 2006) & (vin_original.make.str.lower() == 'chevrolet') & \n",
    "\t\t(vin_original.model.str.lower().str.contains('tahoe|suburban') & (vin_original.fuelType1_mod == 'hev')), 'model'].unique()"
   ]
  },
  {
   "cell_type": "code",
   "execution_count": 165,
   "metadata": {},
   "outputs": [
    {
     "data": {
      "text/plain": [
       "array([u'truck', u'oshkosh', u'oshkosh trailer', ..., u'camry hybrid',\n",
       "       u'venza', u'smith electric vehicles'], dtype=object)"
      ]
     },
     "execution_count": 165,
     "metadata": {},
     "output_type": "execute_result"
    }
   ],
   "source": [
    "vin_original.model.unique()"
   ]
  },
  {
   "cell_type": "code",
   "execution_count": 157,
   "metadata": {},
   "outputs": [
    {
     "data": {
      "text/plain": [
       "Index([            u'BodyClass',                 u'displ',\n",
       "                       u'drive',             u'cylinders',\n",
       "                   u'fuelType1',             u'fuelType2',\n",
       "                        u'GVWR',                  u'make',\n",
       "                       u'model',                  u'year',\n",
       "                      u'Series',   u'transmission_speeds',\n",
       "           u'transmission_type',                  u'Trim',\n",
       "                       u'Trim2',                   u'VIN',\n",
       "                 u'VehicleType',                u'counts',\n",
       "                       u'vtyp3',              u'error_id',\n",
       "       u'transmission_type_mod',         u'fuelType1_mod',\n",
       "                   u'drive_mod'],\n",
       "      dtype='object')"
      ]
     },
     "execution_count": 157,
     "metadata": {},
     "output_type": "execute_result"
    }
   ],
   "source": [
    "vin_original.columns"
   ]
  },
  {
   "cell_type": "code",
   "execution_count": null,
   "metadata": {
    "collapsed": true
   },
   "outputs": [],
   "source": [
    "test"
   ]
  },
  {
   "cell_type": "code",
   "execution_count": 407,
   "metadata": {
    "scrolled": true
   },
   "outputs": [
    {
     "data": {
      "text/plain": [
       "['ABS',\n",
       " 'AEB',\n",
       " 'AdaptiveCruiseControl',\n",
       " 'AdaptiveHeadlights',\n",
       " 'AdditionalErrorText',\n",
       " 'AirBagLocCurtain',\n",
       " 'AirBagLocFront',\n",
       " 'AirBagLocKnee',\n",
       " 'AirBagLocSeatCushion',\n",
       " 'AirBagLocSide',\n",
       " 'Artemis',\n",
       " 'AxleConfiguration',\n",
       " 'Axles',\n",
       " 'BasePrice',\n",
       " 'BatteryA',\n",
       " 'BatteryCells',\n",
       " 'BatteryInfo',\n",
       " 'BatteryKWh',\n",
       " 'BatteryModules',\n",
       " 'BatteryPacks',\n",
       " 'BatteryType',\n",
       " 'BatteryV',\n",
       " 'BedLengthIN',\n",
       " 'BedType',\n",
       " 'BlindSpotMon',\n",
       " 'BodyCabType',\n",
       " 'BodyClass',\n",
       " 'BrakeSystemDesc',\n",
       " 'BrakeSystemType',\n",
       " 'BusFloorConfigType',\n",
       " 'BusLength',\n",
       " 'BusType',\n",
       " 'CAFEBodyType',\n",
       " 'CAFEMake',\n",
       " 'CAFEModel',\n",
       " 'CashForClunkers',\n",
       " 'ChargerLevel',\n",
       " 'ChargerPowerKW',\n",
       " 'CoolingType',\n",
       " 'Country',\n",
       " 'CurbWeightLB',\n",
       " 'CustomMotorcycleType',\n",
       " 'DestinationMarket',\n",
       " 'DisplacementCC',\n",
       " 'DisplacementCI',\n",
       " 'DisplacementL',\n",
       " 'Doors',\n",
       " 'DriveType',\n",
       " 'DriverAssist',\n",
       " 'ESC',\n",
       " 'EVDriveUnit',\n",
       " 'ElectrificationLevel',\n",
       " 'EngineConfiguration',\n",
       " 'EngineCycles',\n",
       " 'EngineCylinders',\n",
       " 'EngineHP',\n",
       " 'EngineKW',\n",
       " 'EngineManufacturer',\n",
       " 'EngineModel',\n",
       " 'EntertainmentSystem',\n",
       " 'EquipmentType',\n",
       " 'ErrorCode',\n",
       " 'ForwardCollisionWarning',\n",
       " 'FuelInjectionType',\n",
       " 'FuelTypePrimary',\n",
       " 'FuelTypeSecondary',\n",
       " 'GVWR',\n",
       " 'LaneDepartureWarning',\n",
       " 'LaneKeepSystem',\n",
       " 'Make',\n",
       " 'Manufacturer',\n",
       " 'ManufacturerId',\n",
       " 'ManufacturerType',\n",
       " 'Message',\n",
       " 'Model',\n",
       " 'ModelYear',\n",
       " 'MotorcycleChassisType',\n",
       " 'MotorcycleSuspensionType',\n",
       " 'NCAPBodyType',\n",
       " 'NCAPMake',\n",
       " 'NCAPModel',\n",
       " 'NCICCode',\n",
       " 'NCSABodyType',\n",
       " 'NCSAMake',\n",
       " 'NCSAModel',\n",
       " 'Note',\n",
       " 'OtherBusInfo',\n",
       " 'OtherEngineInfo',\n",
       " 'OtherMotorcycleInfo',\n",
       " 'OtherRestraintSystemInfo',\n",
       " 'OtherTrailerInfo',\n",
       " 'ParkAssist',\n",
       " 'PlantCity',\n",
       " 'PlantCompanyName',\n",
       " 'PlantCountry',\n",
       " 'PlantState',\n",
       " 'PossibleValues',\n",
       " 'Pretensioner',\n",
       " 'RearVisibilityCamera',\n",
       " 'SearchCriteria',\n",
       " 'SeatBeltsAll',\n",
       " 'SeatRows',\n",
       " 'Seats',\n",
       " 'Series',\n",
       " 'Series2',\n",
       " 'SteeringLocation',\n",
       " 'SuggestedVIN',\n",
       " 'TPMS',\n",
       " 'TopSpeedMPH',\n",
       " 'TrackWidth',\n",
       " 'TractionControl',\n",
       " 'TrailerBodyType',\n",
       " 'TrailerLength',\n",
       " 'TrailerType',\n",
       " 'TransmissionSpeeds',\n",
       " 'TransmissionStyle',\n",
       " 'Trim',\n",
       " 'Trim2',\n",
       " 'Turbo',\n",
       " 'VIN',\n",
       " 'ValveTrainDesign',\n",
       " 'VehicleType',\n",
       " 'WheelBaseLong',\n",
       " 'WheelBaseShort',\n",
       " 'WheelBaseType',\n",
       " 'WheelSizeFront',\n",
       " 'WheelSizeRear',\n",
       " 'Wheels',\n",
       " 'Windows',\n",
       " 'to',\n",
       " 'to.1',\n",
       " 'to.2',\n",
       " 'to.3',\n",
       " 'vin1012',\n",
       " 'vin8',\n",
       " 'vtyp3']"
      ]
     },
     "execution_count": 407,
     "metadata": {},
     "output_type": "execute_result"
    }
   ],
   "source": [
    "sorted(vin_df.columns)"
   ]
  },
  {
   "cell_type": "code",
   "execution_count": 191,
   "metadata": {
    "scrolled": true
   },
   "outputs": [
    {
     "data": {
      "text/plain": [
       "['matched_vins_ranges',\n",
       " 'matched_vins_no_dupes',\n",
       " 'ignore_vins',\n",
       " 'vin',\n",
       " 'matched_vins_simple',\n",
       " 'epa']"
      ]
     },
     "execution_count": 191,
     "metadata": {},
     "output_type": "execute_result"
    }
   ],
   "source": [
    "all_dfs.keys()"
   ]
  },
  {
   "cell_type": "code",
   "execution_count": 193,
   "metadata": {},
   "outputs": [
    {
     "data": {
      "text/html": [
       "<div>\n",
       "<style scoped>\n",
       "    .dataframe tbody tr th:only-of-type {\n",
       "        vertical-align: middle;\n",
       "    }\n",
       "\n",
       "    .dataframe tbody tr th {\n",
       "        vertical-align: top;\n",
       "    }\n",
       "\n",
       "    .dataframe thead th {\n",
       "        text-align: right;\n",
       "    }\n",
       "</style>\n",
       "<table border=\"1\" class=\"dataframe\">\n",
       "  <thead>\n",
       "    <tr style=\"text-align: right;\">\n",
       "      <th></th>\n",
       "      <th>matched_on</th>\n",
       "      <th>year_vin</th>\n",
       "      <th>Series_vin</th>\n",
       "      <th>fuelType1_vin</th>\n",
       "      <th>VIN_vin</th>\n",
       "      <th>drive_vin</th>\n",
       "      <th>Trim2_vin</th>\n",
       "      <th>make_vin</th>\n",
       "      <th>transmission_speeds_vin</th>\n",
       "      <th>BodyClass_vin</th>\n",
       "      <th>...</th>\n",
       "      <th>EPA_epa</th>\n",
       "      <th>transmission_speeds_mod_epa</th>\n",
       "      <th>transmission_speeds_epa</th>\n",
       "      <th>transmission_type_mod_epa</th>\n",
       "      <th>transmission_type_epa</th>\n",
       "      <th>displ_mod_epa</th>\n",
       "      <th>vtyp3_epa</th>\n",
       "      <th>model_mod_epa</th>\n",
       "      <th>EPA_ID_epa</th>\n",
       "      <th>type_epa</th>\n",
       "    </tr>\n",
       "  </thead>\n",
       "  <tbody>\n",
       "    <tr>\n",
       "      <th>0</th>\n",
       "      <td>make, model_mod, year, fuelType1_mod</td>\n",
       "      <td>1995</td>\n",
       "      <td>-1</td>\n",
       "      <td>gasoline</td>\n",
       "      <td>1b3ej46cxsn599296</td>\n",
       "      <td>-1</td>\n",
       "      <td>-1</td>\n",
       "      <td>dodge</td>\n",
       "      <td>-1</td>\n",
       "      <td>sedan/saloon</td>\n",
       "      <td>...</td>\n",
       "      <td>1955</td>\n",
       "      <td>4</td>\n",
       "      <td>4</td>\n",
       "      <td>auto</td>\n",
       "      <td>auto</td>\n",
       "      <td>2.4</td>\n",
       "      <td>-1</td>\n",
       "      <td>stratus</td>\n",
       "      <td>2165</td>\n",
       "      <td>0</td>\n",
       "    </tr>\n",
       "    <tr>\n",
       "      <th>1</th>\n",
       "      <td>make, model_mod, year, fuelType1_mod</td>\n",
       "      <td>1995</td>\n",
       "      <td>-1</td>\n",
       "      <td>gasoline</td>\n",
       "      <td>1b3ej46cxsn599296</td>\n",
       "      <td>-1</td>\n",
       "      <td>-1</td>\n",
       "      <td>dodge</td>\n",
       "      <td>-1</td>\n",
       "      <td>sedan/saloon</td>\n",
       "      <td>...</td>\n",
       "      <td>1956</td>\n",
       "      <td>4</td>\n",
       "      <td>4</td>\n",
       "      <td>auto</td>\n",
       "      <td>auto</td>\n",
       "      <td>2.5</td>\n",
       "      <td>-1</td>\n",
       "      <td>stratus</td>\n",
       "      <td>2166</td>\n",
       "      <td>0</td>\n",
       "    </tr>\n",
       "    <tr>\n",
       "      <th>2</th>\n",
       "      <td>make, model_mod, year, fuelType1_mod</td>\n",
       "      <td>1995</td>\n",
       "      <td>-1</td>\n",
       "      <td>gasoline</td>\n",
       "      <td>1b3ej46cxsn652272</td>\n",
       "      <td>-1</td>\n",
       "      <td>-1</td>\n",
       "      <td>dodge</td>\n",
       "      <td>-1</td>\n",
       "      <td>sedan/saloon</td>\n",
       "      <td>...</td>\n",
       "      <td>1955</td>\n",
       "      <td>4</td>\n",
       "      <td>4</td>\n",
       "      <td>auto</td>\n",
       "      <td>auto</td>\n",
       "      <td>2.4</td>\n",
       "      <td>-1</td>\n",
       "      <td>stratus</td>\n",
       "      <td>2165</td>\n",
       "      <td>0</td>\n",
       "    </tr>\n",
       "    <tr>\n",
       "      <th>3</th>\n",
       "      <td>make, model_mod, year, fuelType1_mod</td>\n",
       "      <td>1995</td>\n",
       "      <td>-1</td>\n",
       "      <td>gasoline</td>\n",
       "      <td>1b3ej46cxsn652272</td>\n",
       "      <td>-1</td>\n",
       "      <td>-1</td>\n",
       "      <td>dodge</td>\n",
       "      <td>-1</td>\n",
       "      <td>sedan/saloon</td>\n",
       "      <td>...</td>\n",
       "      <td>1956</td>\n",
       "      <td>4</td>\n",
       "      <td>4</td>\n",
       "      <td>auto</td>\n",
       "      <td>auto</td>\n",
       "      <td>2.5</td>\n",
       "      <td>-1</td>\n",
       "      <td>stratus</td>\n",
       "      <td>2166</td>\n",
       "      <td>0</td>\n",
       "    </tr>\n",
       "    <tr>\n",
       "      <th>4</th>\n",
       "      <td>make, model_mod, year, fuelType1_mod</td>\n",
       "      <td>1995</td>\n",
       "      <td>-1</td>\n",
       "      <td>gasoline</td>\n",
       "      <td>1b3ej56cxsn596520</td>\n",
       "      <td>-1</td>\n",
       "      <td>-1</td>\n",
       "      <td>dodge</td>\n",
       "      <td>-1</td>\n",
       "      <td>sedan/saloon</td>\n",
       "      <td>...</td>\n",
       "      <td>1955</td>\n",
       "      <td>4</td>\n",
       "      <td>4</td>\n",
       "      <td>auto</td>\n",
       "      <td>auto</td>\n",
       "      <td>2.4</td>\n",
       "      <td>-1</td>\n",
       "      <td>stratus</td>\n",
       "      <td>2165</td>\n",
       "      <td>0</td>\n",
       "    </tr>\n",
       "  </tbody>\n",
       "</table>\n",
       "<p>5 rows × 61 columns</p>\n",
       "</div>"
      ],
      "text/plain": [
       "                             matched_on year_vin Series_vin fuelType1_vin  \\\n",
       "0  make, model_mod, year, fuelType1_mod     1995         -1      gasoline   \n",
       "1  make, model_mod, year, fuelType1_mod     1995         -1      gasoline   \n",
       "2  make, model_mod, year, fuelType1_mod     1995         -1      gasoline   \n",
       "3  make, model_mod, year, fuelType1_mod     1995         -1      gasoline   \n",
       "4  make, model_mod, year, fuelType1_mod     1995         -1      gasoline   \n",
       "\n",
       "             VIN_vin drive_vin Trim2_vin make_vin transmission_speeds_vin  \\\n",
       "0  1b3ej46cxsn599296        -1        -1    dodge                      -1   \n",
       "1  1b3ej46cxsn599296        -1        -1    dodge                      -1   \n",
       "2  1b3ej46cxsn652272        -1        -1    dodge                      -1   \n",
       "3  1b3ej46cxsn652272        -1        -1    dodge                      -1   \n",
       "4  1b3ej56cxsn596520        -1        -1    dodge                      -1   \n",
       "\n",
       "  BodyClass_vin   ...    EPA_epa transmission_speeds_mod_epa  \\\n",
       "0  sedan/saloon   ...       1955                           4   \n",
       "1  sedan/saloon   ...       1956                           4   \n",
       "2  sedan/saloon   ...       1955                           4   \n",
       "3  sedan/saloon   ...       1956                           4   \n",
       "4  sedan/saloon   ...       1955                           4   \n",
       "\n",
       "  transmission_speeds_epa transmission_type_mod_epa  transmission_type_epa  \\\n",
       "0                       4                      auto                   auto   \n",
       "1                       4                      auto                   auto   \n",
       "2                       4                      auto                   auto   \n",
       "3                       4                      auto                   auto   \n",
       "4                       4                      auto                   auto   \n",
       "\n",
       "  displ_mod_epa vtyp3_epa model_mod_epa EPA_ID_epa type_epa  \n",
       "0           2.4        -1       stratus       2165        0  \n",
       "1           2.5        -1       stratus       2166        0  \n",
       "2           2.4        -1       stratus       2165        0  \n",
       "3           2.5        -1       stratus       2166        0  \n",
       "4           2.4        -1       stratus       2165        0  \n",
       "\n",
       "[5 rows x 61 columns]"
      ]
     },
     "execution_count": 193,
     "metadata": {},
     "output_type": "execute_result"
    }
   ],
   "source": [
    "all_dfs['matched_vins_simple'].head()"
   ]
  },
  {
   "cell_type": "code",
   "execution_count": 196,
   "metadata": {},
   "outputs": [
    {
     "data": {
      "text/plain": [
       "['BodyClass_vin',\n",
       " 'EPA_ID_epa',\n",
       " 'GVWR_vin',\n",
       " 'Series_vin',\n",
       " 'VClass_epa',\n",
       " 'VIN_ID_vin',\n",
       " 'VIN_vin',\n",
       " 'VehicleType_vin',\n",
       " 'city08_epa',\n",
       " 'comb08_epa',\n",
       " 'counts_vin',\n",
       " 'cylinders_epa',\n",
       " 'cylinders_vin',\n",
       " 'displ_epa',\n",
       " 'displ_mod_epa',\n",
       " 'displ_mod_vin',\n",
       " 'displ_vin',\n",
       " 'drive_epa',\n",
       " 'drive_mod_epa',\n",
       " 'drive_mod_vin',\n",
       " 'drive_vin',\n",
       " 'error_id_vin',\n",
       " 'fuelType1_epa',\n",
       " 'fuelType1_mod_epa',\n",
       " 'fuelType1_mod_vin',\n",
       " 'fuelType1_vin',\n",
       " 'highway08_epa',\n",
       " 'make_epa',\n",
       " 'make_vin',\n",
       " 'matched_on',\n",
       " 'model_epa',\n",
       " 'model_mod_epa',\n",
       " 'model_mod_vin',\n",
       " 'model_vin',\n",
       " 'transmission_speeds_epa',\n",
       " 'transmission_speeds_mod_epa',\n",
       " 'transmission_speeds_mod_vin',\n",
       " 'transmission_speeds_vin',\n",
       " 'transmission_type_epa',\n",
       " 'transmission_type_mod_epa',\n",
       " 'transmission_type_mod_vin',\n",
       " 'transmission_type_vin',\n",
       " 'trany_epa',\n",
       " 'type_epa',\n",
       " 'type_from_vin_vin',\n",
       " 'type_vin',\n",
       " 'vtyp3_vin',\n",
       " 'weight_vin',\n",
       " 'year_epa',\n",
       " 'year_vin']"
      ]
     },
     "execution_count": 196,
     "metadata": {},
     "output_type": "execute_result"
    }
   ],
   "source": [
    "sorted(ordered_cols, reverse=False\n",
    "    )"
   ]
  }
 ],
 "metadata": {
  "kernelspec": {
   "display_name": "Python [default]",
   "language": "python",
   "name": "python2"
  },
  "language_info": {
   "codemirror_mode": {
    "name": "ipython",
    "version": 2
   },
   "file_extension": ".py",
   "mimetype": "text/x-python",
   "name": "python",
   "nbconvert_exporter": "python",
   "pygments_lexer": "ipython2",
   "version": "2.7.13"
  }
 },
 "nbformat": 4,
 "nbformat_minor": 2
}
